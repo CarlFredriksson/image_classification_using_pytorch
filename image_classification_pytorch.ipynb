{
 "cells": [
  {
   "cell_type": "code",
   "execution_count": 1,
   "metadata": {},
   "outputs": [],
   "source": [
    "import time\n",
    "import torch\n",
    "import torch.nn as nn\n",
    "import torch.nn.functional as F\n",
    "import torch.optim as optim\n",
    "import torchvision\n",
    "import torchvision.transforms as transforms\n",
    "import matplotlib.pyplot as plt\n",
    "import numpy as np"
   ]
  },
  {
   "cell_type": "code",
   "execution_count": 2,
   "metadata": {},
   "outputs": [
    {
     "name": "stdout",
     "output_type": "stream",
     "text": [
      "Files already downloaded and verified\n",
      "Files already downloaded and verified\n",
      "Number of training examples: 50000\n",
      "Number of test examples: 10000\n"
     ]
    }
   ],
   "source": [
    "# Prepare data\n",
    "transform = transforms.Compose(\n",
    "    [transforms.ToTensor(), transforms.Normalize((0.5, 0.5, 0.5), (0.5, 0.5, 0.5))])\n",
    "train_set = torchvision.datasets.CIFAR10(\n",
    "    root='./data', train=True, download=True, transform=transform)\n",
    "train_loader = torch.utils.data.DataLoader(\n",
    "    train_set, batch_size=128, shuffle=True, num_workers=2)\n",
    "test_set = torchvision.datasets.CIFAR10(\n",
    "    root='./data', train=False, download=True, transform=transform)\n",
    "test_loader = torch.utils.data.DataLoader(\n",
    "    test_set, batch_size=128, shuffle=False, num_workers=2)\n",
    "classes = ('plane', 'car', 'bird', 'cat', 'deer', 'dog', 'frog', 'horse', 'ship', 'truck')\n",
    "print('Number of training examples:', len(train_set))\n",
    "print('Number of test examples:', len(test_set))"
   ]
  },
  {
   "cell_type": "code",
   "execution_count": 3,
   "metadata": {},
   "outputs": [],
   "source": [
    "def imshow(img):\n",
    "    img = img / 2 + 0.5 # Un-normalize\n",
    "    np_img = img.numpy()\n",
    "    plt.imshow(np.transpose(np_img, (1, 2, 0)))\n",
    "    plt.show()"
   ]
  },
  {
   "cell_type": "code",
   "execution_count": 4,
   "metadata": {},
   "outputs": [
    {
     "data": {
      "image/png": "[encoded data removed]",
      "text/plain": [
       "<Figure size 432x288 with 1 Axes>"
      ]
     },
     "metadata": {
      "needs_background": "light"
     },
     "output_type": "display_data"
    },
    {
     "name": "stdout",
     "output_type": "stream",
     "text": [
      "Labels: deer plane horse ship plane\n"
     ]
    }
   ],
   "source": [
    "# Show some random training images\n",
    "NUM_IMAGES_TO_SHOW = 5\n",
    "data_iter = iter(train_loader)\n",
    "images, labels = data_iter.next()\n",
    "imshow(torchvision.utils.make_grid(images[:NUM_IMAGES_TO_SHOW]))\n",
    "print('Labels:', ' '.join(f'{classes[labels[i]]}' for i in range(NUM_IMAGES_TO_SHOW)))"
   ]
  },
  {
   "cell_type": "code",
   "execution_count": 5,
   "metadata": {},
   "outputs": [],
   "source": [
    "class Net(nn.Module):\n",
    "    def __init__(self):\n",
    "        super(Net, self).__init__()\n",
    "        self.conv1 = nn.Conv2d(3, 12, 5)\n",
    "        self.pool = nn.MaxPool2d(2, 2)\n",
    "        self.conv2 = nn.Conv2d(12, 24, 5)\n",
    "        self.fc1 = nn.Linear(24 * 5 * 5, 120)\n",
    "        self.fc2 = nn.Linear(120, 84)\n",
    "        self.fc3 = nn.Linear(84, 10)\n",
    "\n",
    "    def forward(self, x):\n",
    "        #print('layer 0:', x.size())\n",
    "        x = F.relu(self.conv1(x))\n",
    "        #print('layer 1:', x.size())\n",
    "        x = self.pool(x)\n",
    "        #print('layer 2:', x.size())\n",
    "        x = F.relu(self.conv2(x))\n",
    "        #print('layer 3:', x.size())\n",
    "        x = self.pool(x)\n",
    "        #print('layer 4:', x.size())\n",
    "        x = x.view(-1, 24 * 5 * 5)\n",
    "        #print('layer 5:', x.size())\n",
    "        x = F.relu(self.fc1(x))\n",
    "        #print('layer 6:', x.size())\n",
    "        x = F.relu(self.fc2(x))\n",
    "        #print('layer 7:', x.size())\n",
    "        x = self.fc3(x)\n",
    "        #print('layer 8:', x.size())\n",
    "        return x"
   ]
  },
  {
   "cell_type": "code",
   "execution_count": 6,
   "metadata": {},
   "outputs": [
    {
     "name": "stdout",
     "output_type": "stream",
     "text": [
      "Device: cuda:0\n"
     ]
    }
   ],
   "source": [
    "# Create model\n",
    "net = Net()\n",
    "#device = 'cpu'\n",
    "device = torch.device('cuda:0' if torch.cuda.is_available() else 'cpu')\n",
    "net.to(device)\n",
    "print('Device:', device)"
   ]
  },
  {
   "cell_type": "code",
   "execution_count": 7,
   "metadata": {},
   "outputs": [],
   "source": [
    "# Create optimizer\n",
    "criterion = nn.CrossEntropyLoss()\n",
    "optimizer = optim.SGD(net.parameters(), lr=0.001, momentum=0.9)"
   ]
  },
  {
   "cell_type": "code",
   "execution_count": 8,
   "metadata": {},
   "outputs": [
    {
     "name": "stdout",
     "output_type": "stream",
     "text": [
      "Number of iterations per epoch: 391\n"
     ]
    }
   ],
   "source": [
    "print('Number of iterations per epoch:', len(train_loader))"
   ]
  },
  {
   "cell_type": "code",
   "execution_count": 9,
   "metadata": {},
   "outputs": [
    {
     "name": "stdout",
     "output_type": "stream",
     "text": [
      "Starting training\n",
      "Epoch [0/49] loss: 2.30145 accuracy: 10.44%\n",
      "Epoch [1/49] loss: 2.29067 accuracy: 16.81%\n",
      "Epoch [2/49] loss: 2.19717 accuracy: 22.10%\n",
      "Epoch [3/49] loss: 1.98646 accuracy: 28.20%\n",
      "Epoch [4/49] loss: 1.89049 accuracy: 31.65%\n",
      "Epoch [5/49] loss: 1.78711 accuracy: 35.24%\n",
      "Epoch [6/49] loss: 1.69159 accuracy: 38.46%\n",
      "Epoch [7/49] loss: 1.61070 accuracy: 41.16%\n",
      "Epoch [8/49] loss: 1.54872 accuracy: 43.36%\n",
      "Epoch [9/49] loss: 1.49046 accuracy: 45.68%\n",
      "Epoch [10/49] loss: 1.44773 accuracy: 47.31%\n",
      "Epoch [11/49] loss: 1.41580 accuracy: 48.57%\n",
      "Epoch [12/49] loss: 1.38647 accuracy: 49.70%\n",
      "Epoch [13/49] loss: 1.35563 accuracy: 51.04%\n",
      "Epoch [14/49] loss: 1.33018 accuracy: 52.02%\n",
      "Epoch [15/49] loss: 1.30465 accuracy: 53.00%\n",
      "Epoch [16/49] loss: 1.28018 accuracy: 54.06%\n",
      "Epoch [17/49] loss: 1.25472 accuracy: 55.01%\n",
      "Epoch [18/49] loss: 1.22995 accuracy: 56.11%\n",
      "Epoch [19/49] loss: 1.20266 accuracy: 57.22%\n",
      "Epoch [20/49] loss: 1.18357 accuracy: 58.03%\n",
      "Epoch [21/49] loss: 1.16059 accuracy: 58.92%\n",
      "Epoch [22/49] loss: 1.14053 accuracy: 59.60%\n",
      "Epoch [23/49] loss: 1.11905 accuracy: 60.28%\n",
      "Epoch [24/49] loss: 1.09626 accuracy: 61.14%\n",
      "Epoch [25/49] loss: 1.08089 accuracy: 61.71%\n",
      "Epoch [26/49] loss: 1.06226 accuracy: 62.75%\n",
      "Epoch [27/49] loss: 1.04825 accuracy: 63.33%\n",
      "Epoch [28/49] loss: 1.03261 accuracy: 63.66%\n",
      "Epoch [29/49] loss: 1.01223 accuracy: 64.44%\n",
      "Epoch [30/49] loss: 0.99790 accuracy: 64.94%\n",
      "Epoch [31/49] loss: 0.98128 accuracy: 65.59%\n",
      "Epoch [32/49] loss: 0.96842 accuracy: 66.02%\n",
      "Epoch [33/49] loss: 0.95443 accuracy: 66.60%\n",
      "Epoch [34/49] loss: 0.93885 accuracy: 67.24%\n",
      "Epoch [35/49] loss: 0.92949 accuracy: 67.61%\n",
      "Epoch [36/49] loss: 0.91574 accuracy: 67.94%\n",
      "Epoch [37/49] loss: 0.90481 accuracy: 68.41%\n",
      "Epoch [38/49] loss: 0.89291 accuracy: 68.98%\n",
      "Epoch [39/49] loss: 0.87999 accuracy: 69.21%\n",
      "Epoch [40/49] loss: 0.86690 accuracy: 69.80%\n",
      "Epoch [41/49] loss: 0.85333 accuracy: 70.38%\n",
      "Epoch [42/49] loss: 0.84492 accuracy: 70.59%\n",
      "Epoch [43/49] loss: 0.83307 accuracy: 70.87%\n",
      "Epoch [44/49] loss: 0.82357 accuracy: 71.40%\n",
      "Epoch [45/49] loss: 0.81524 accuracy: 71.54%\n",
      "Epoch [46/49] loss: 0.80452 accuracy: 71.92%\n",
      "Epoch [47/49] loss: 0.79369 accuracy: 72.41%\n",
      "Epoch [48/49] loss: 0.78139 accuracy: 72.78%\n",
      "Epoch [49/49] loss: 0.77301 accuracy: 73.16%\n",
      "Finished training - elapsed_time: 467 sec\n"
     ]
    }
   ],
   "source": [
    "# Train model\n",
    "NUM_EPOCHS = 50\n",
    "loss_per_epoch = np.zeros(NUM_EPOCHS)\n",
    "accuracy_per_epoch = np.zeros(NUM_EPOCHS)\n",
    "print('Starting training')\n",
    "start_time = time.perf_counter()\n",
    "for epoch in range(NUM_EPOCHS):\n",
    "    for i, data in enumerate(train_loader):\n",
    "        inputs, labels = data[0].to(device), data[1].to(device)\n",
    "\n",
    "        # Zero the parameter gradients\n",
    "        optimizer.zero_grad()\n",
    "\n",
    "        # Forward + backward + optimize\n",
    "        outputs = net(inputs)\n",
    "        predicted = torch.argmax(outputs.data, 1)\n",
    "        loss = criterion(outputs, labels)\n",
    "        loss.backward()\n",
    "        optimizer.step()\n",
    "\n",
    "        loss_per_epoch[epoch] += loss.item() / len(train_loader)\n",
    "        accuracy_per_epoch[epoch] += (predicted == labels).sum().item() / len(train_set)\n",
    "    # Print statistics\n",
    "    print('Epoch [{}/{}] loss: {:.5f} accuracy: {:.2f}%'.format(\n",
    "        epoch, NUM_EPOCHS - 1, loss_per_epoch[epoch], 100 * accuracy_per_epoch[epoch]))\n",
    "elapsed_time = time.perf_counter() - start_time\n",
    "print(f'Finished training - elapsed_time: {elapsed_time:.0f} sec')"
   ]
  },
  {
   "cell_type": "code",
   "execution_count": 20,
   "metadata": {},
   "outputs": [
    {
     "data": {
      "image/png": "[encoded data removed]",
      "text/plain": [
       "<Figure size 720x288 with 2 Axes>"
      ]
     },
     "metadata": {
      "needs_background": "light"
     },
     "output_type": "display_data"
    }
   ],
   "source": [
    "fig, ax = plt.subplots(1, 2, figsize=(10, 4))\n",
    "ax[0].plot(np.arange(NUM_EPOCHS), loss_per_epoch)\n",
    "ax[0].set_xlabel('Epoch')\n",
    "ax[0].set_ylabel('Cross entropy loss')\n",
    "ax[1].plot(np.arange(NUM_EPOCHS), 100* accuracy_per_epoch)\n",
    "ax[1].set_xlabel('Epoch')\n",
    "ax[1].set_ylabel('Accuracy %')\n",
    "plt.show()"
   ]
  },
  {
   "cell_type": "code",
   "execution_count": 28,
   "metadata": {},
   "outputs": [
    {
     "ename": "FileNotFoundError",
     "evalue": "[Errno 2] No such file or directory: './saved_models/nn_cifar10.pth'",
     "output_type": "error",
     "traceback": [
      "\u001b[1;31m---------------------------------------------------------------------------\u001b[0m",
      "\u001b[1;31mFileNotFoundError\u001b[0m                         Traceback (most recent call last)",
      "\u001b[1;32m<ipython-input-28-e4ece8a49d0c>\u001b[0m in \u001b[0;36m<module>\u001b[1;34m\u001b[0m\n\u001b[0;32m      1\u001b[0m \u001b[1;31m# Save trained model\u001b[0m\u001b[1;33m\u001b[0m\u001b[1;33m\u001b[0m\u001b[1;33m\u001b[0m\u001b[0m\n\u001b[0;32m      2\u001b[0m \u001b[0msave_path\u001b[0m \u001b[1;33m=\u001b[0m \u001b[1;34m'./saved_models/nn_cifar10.pth'\u001b[0m\u001b[1;33m\u001b[0m\u001b[1;33m\u001b[0m\u001b[0m\n\u001b[1;32m----> 3\u001b[1;33m \u001b[0mtorch\u001b[0m\u001b[1;33m.\u001b[0m\u001b[0msave\u001b[0m\u001b[1;33m(\u001b[0m\u001b[0mnet\u001b[0m\u001b[1;33m.\u001b[0m\u001b[0mstate_dict\u001b[0m\u001b[1;33m(\u001b[0m\u001b[1;33m)\u001b[0m\u001b[1;33m,\u001b[0m \u001b[0msave_path\u001b[0m\u001b[1;33m)\u001b[0m\u001b[1;33m\u001b[0m\u001b[1;33m\u001b[0m\u001b[0m\n\u001b[0m",
      "\u001b[1;32m~\\Anaconda3\\lib\\site-packages\\torch\\serialization.py\u001b[0m in \u001b[0;36msave\u001b[1;34m(obj, f, pickle_module, pickle_protocol, _use_new_zipfile_serialization)\u001b[0m\n\u001b[0;32m    325\u001b[0m             \u001b[1;32mreturn\u001b[0m\u001b[1;33m\u001b[0m\u001b[1;33m\u001b[0m\u001b[0m\n\u001b[0;32m    326\u001b[0m \u001b[1;33m\u001b[0m\u001b[0m\n\u001b[1;32m--> 327\u001b[1;33m     \u001b[1;32mwith\u001b[0m \u001b[0m_open_file_like\u001b[0m\u001b[1;33m(\u001b[0m\u001b[0mf\u001b[0m\u001b[1;33m,\u001b[0m \u001b[1;34m'wb'\u001b[0m\u001b[1;33m)\u001b[0m \u001b[1;32mas\u001b[0m \u001b[0mopened_file\u001b[0m\u001b[1;33m:\u001b[0m\u001b[1;33m\u001b[0m\u001b[1;33m\u001b[0m\u001b[0m\n\u001b[0m\u001b[0;32m    328\u001b[0m         \u001b[0m_legacy_save\u001b[0m\u001b[1;33m(\u001b[0m\u001b[0mobj\u001b[0m\u001b[1;33m,\u001b[0m \u001b[0mopened_file\u001b[0m\u001b[1;33m,\u001b[0m \u001b[0mpickle_module\u001b[0m\u001b[1;33m,\u001b[0m \u001b[0mpickle_protocol\u001b[0m\u001b[1;33m)\u001b[0m\u001b[1;33m\u001b[0m\u001b[1;33m\u001b[0m\u001b[0m\n\u001b[0;32m    329\u001b[0m \u001b[1;33m\u001b[0m\u001b[0m\n",
      "\u001b[1;32m~\\Anaconda3\\lib\\site-packages\\torch\\serialization.py\u001b[0m in \u001b[0;36m_open_file_like\u001b[1;34m(name_or_buffer, mode)\u001b[0m\n\u001b[0;32m    210\u001b[0m \u001b[1;32mdef\u001b[0m \u001b[0m_open_file_like\u001b[0m\u001b[1;33m(\u001b[0m\u001b[0mname_or_buffer\u001b[0m\u001b[1;33m,\u001b[0m \u001b[0mmode\u001b[0m\u001b[1;33m)\u001b[0m\u001b[1;33m:\u001b[0m\u001b[1;33m\u001b[0m\u001b[1;33m\u001b[0m\u001b[0m\n\u001b[0;32m    211\u001b[0m     \u001b[1;32mif\u001b[0m \u001b[0m_is_path\u001b[0m\u001b[1;33m(\u001b[0m\u001b[0mname_or_buffer\u001b[0m\u001b[1;33m)\u001b[0m\u001b[1;33m:\u001b[0m\u001b[1;33m\u001b[0m\u001b[1;33m\u001b[0m\u001b[0m\n\u001b[1;32m--> 212\u001b[1;33m         \u001b[1;32mreturn\u001b[0m \u001b[0m_open_file\u001b[0m\u001b[1;33m(\u001b[0m\u001b[0mname_or_buffer\u001b[0m\u001b[1;33m,\u001b[0m \u001b[0mmode\u001b[0m\u001b[1;33m)\u001b[0m\u001b[1;33m\u001b[0m\u001b[1;33m\u001b[0m\u001b[0m\n\u001b[0m\u001b[0;32m    213\u001b[0m     \u001b[1;32melse\u001b[0m\u001b[1;33m:\u001b[0m\u001b[1;33m\u001b[0m\u001b[1;33m\u001b[0m\u001b[0m\n\u001b[0;32m    214\u001b[0m         \u001b[1;32mif\u001b[0m \u001b[1;34m'w'\u001b[0m \u001b[1;32min\u001b[0m \u001b[0mmode\u001b[0m\u001b[1;33m:\u001b[0m\u001b[1;33m\u001b[0m\u001b[1;33m\u001b[0m\u001b[0m\n",
      "\u001b[1;32m~\\Anaconda3\\lib\\site-packages\\torch\\serialization.py\u001b[0m in \u001b[0;36m__init__\u001b[1;34m(self, name, mode)\u001b[0m\n\u001b[0;32m    191\u001b[0m \u001b[1;32mclass\u001b[0m \u001b[0m_open_file\u001b[0m\u001b[1;33m(\u001b[0m\u001b[0m_opener\u001b[0m\u001b[1;33m)\u001b[0m\u001b[1;33m:\u001b[0m\u001b[1;33m\u001b[0m\u001b[1;33m\u001b[0m\u001b[0m\n\u001b[0;32m    192\u001b[0m     \u001b[1;32mdef\u001b[0m \u001b[0m__init__\u001b[0m\u001b[1;33m(\u001b[0m\u001b[0mself\u001b[0m\u001b[1;33m,\u001b[0m \u001b[0mname\u001b[0m\u001b[1;33m,\u001b[0m \u001b[0mmode\u001b[0m\u001b[1;33m)\u001b[0m\u001b[1;33m:\u001b[0m\u001b[1;33m\u001b[0m\u001b[1;33m\u001b[0m\u001b[0m\n\u001b[1;32m--> 193\u001b[1;33m         \u001b[0msuper\u001b[0m\u001b[1;33m(\u001b[0m\u001b[0m_open_file\u001b[0m\u001b[1;33m,\u001b[0m \u001b[0mself\u001b[0m\u001b[1;33m)\u001b[0m\u001b[1;33m.\u001b[0m\u001b[0m__init__\u001b[0m\u001b[1;33m(\u001b[0m\u001b[0mopen\u001b[0m\u001b[1;33m(\u001b[0m\u001b[0mname\u001b[0m\u001b[1;33m,\u001b[0m \u001b[0mmode\u001b[0m\u001b[1;33m)\u001b[0m\u001b[1;33m)\u001b[0m\u001b[1;33m\u001b[0m\u001b[1;33m\u001b[0m\u001b[0m\n\u001b[0m\u001b[0;32m    194\u001b[0m \u001b[1;33m\u001b[0m\u001b[0m\n\u001b[0;32m    195\u001b[0m     \u001b[1;32mdef\u001b[0m \u001b[0m__exit__\u001b[0m\u001b[1;33m(\u001b[0m\u001b[0mself\u001b[0m\u001b[1;33m,\u001b[0m \u001b[1;33m*\u001b[0m\u001b[0margs\u001b[0m\u001b[1;33m)\u001b[0m\u001b[1;33m:\u001b[0m\u001b[1;33m\u001b[0m\u001b[1;33m\u001b[0m\u001b[0m\n",
      "\u001b[1;31mFileNotFoundError\u001b[0m: [Errno 2] No such file or directory: './saved_models/nn_cifar10.pth'"
     ]
    }
   ],
   "source": [
    "# Save trained model\n",
    "save_path = './nn_cifar10.pth'\n",
    "torch.save(net.state_dict(), save_path)"
   ]
  },
  {
   "cell_type": "code",
   "execution_count": 23,
   "metadata": {},
   "outputs": [
    {
     "data": {
      "text/plain": [
       "Net(\n",
       "  (conv1): Conv2d(3, 12, kernel_size=(5, 5), stride=(1, 1))\n",
       "  (pool): MaxPool2d(kernel_size=2, stride=2, padding=0, dilation=1, ceil_mode=False)\n",
       "  (conv2): Conv2d(12, 24, kernel_size=(5, 5), stride=(1, 1))\n",
       "  (fc1): Linear(in_features=600, out_features=120, bias=True)\n",
       "  (fc2): Linear(in_features=120, out_features=84, bias=True)\n",
       "  (fc3): Linear(in_features=84, out_features=10, bias=True)\n",
       ")"
      ]
     },
     "execution_count": 23,
     "metadata": {},
     "output_type": "execute_result"
    }
   ],
   "source": [
    "# Load trained model (obviously not necessary if you run the whole notebook)\n",
    "net = Net()\n",
    "net.load_state_dict(torch.load(save_path))\n",
    "net.to(device)"
   ]
  },
  {
   "cell_type": "code",
   "execution_count": 24,
   "metadata": {},
   "outputs": [
    {
     "data": {
      "image/png": "[encoded data removed]",
      "text/plain": [
       "<Figure size 432x288 with 1 Axes>"
      ]
     },
     "metadata": {
      "needs_background": "light"
     },
     "output_type": "display_data"
    },
    {
     "name": "stdout",
     "output_type": "stream",
     "text": [
      "Labels: cat ship ship plane frog\n"
     ]
    }
   ],
   "source": [
    "# Show some test images\n",
    "data_iter = iter(test_loader)\n",
    "images, labels = data_iter.next()\n",
    "imshow(torchvision.utils.make_grid(images[:NUM_IMAGES_TO_SHOW]))\n",
    "print('Labels:', ' '.join(f'{classes[labels[i]]}' for i in range(NUM_IMAGES_TO_SHOW)))"
   ]
  },
  {
   "cell_type": "code",
   "execution_count": 25,
   "metadata": {},
   "outputs": [
    {
     "name": "stdout",
     "output_type": "stream",
     "text": [
      "Predicted: truck truck truck truck truck\n"
     ]
    }
   ],
   "source": [
    "# Predict classes for the random test images\n",
    "outputs = net(images.to(device))\n",
    "predicted = torch.argmax(outputs, 1)\n",
    "print('Predicted:', ' '.join(f'{classes[predicted[i]]}' for i in range(NUM_IMAGES_TO_SHOW)))"
   ]
  },
  {
   "cell_type": "code",
   "execution_count": 26,
   "metadata": {},
   "outputs": [
    {
     "name": "stdout",
     "output_type": "stream",
     "text": [
      "Accuracy of the model on the 10000 test images: 9.48%\n"
     ]
    }
   ],
   "source": [
    "# Check the accuracy on the test set\n",
    "num_total = len(test_set)\n",
    "num_correct = 0\n",
    "with torch.no_grad():\n",
    "    for data in test_loader:\n",
    "        images, labels = data[0].to(device), data[1].to(device)\n",
    "        outputs = net(images)\n",
    "        predicted = torch.argmax(outputs.data, 1)\n",
    "        num_correct += (predicted == labels).sum().item()\n",
    "print(f'Accuracy of the model on the {num_total} test images: {100 * num_correct / num_total}%')"
   ]
  },
  {
   "cell_type": "code",
   "execution_count": 27,
   "metadata": {},
   "outputs": [
    {
     "name": "stdout",
     "output_type": "stream",
     "text": [
      "Accuracy of plane: [0/1000] 0.0%\n",
      "Accuracy of car: [0/1000] 0.0%\n",
      "Accuracy of bird: [0/1000] 0.0%\n",
      "Accuracy of cat: [0/1000] 0.0%\n",
      "Accuracy of deer: [36/1000] 3.6%\n",
      "Accuracy of dog: [0/1000] 0.0%\n",
      "Accuracy of frog: [0/1000] 0.0%\n",
      "Accuracy of horse: [0/1000] 0.0%\n",
      "Accuracy of ship: [0/1000] 0.0%\n",
      "Accuracy of truck: [912/1000] 91.2%\n"
     ]
    }
   ],
   "source": [
    "# Check the accuracy per class\n",
    "class_correct = np.zeros(len(classes))\n",
    "class_total = np.zeros(len(classes))\n",
    "with torch.no_grad():\n",
    "    for data in test_loader:\n",
    "        images, labels = data[0].to(device), data[1].to(device)\n",
    "        outputs = net(images)\n",
    "        predicted = torch.argmax(outputs, 1)\n",
    "        predicted_correct = (predicted == labels).squeeze()\n",
    "        for i in range(len(labels)):\n",
    "            label = labels[i]\n",
    "            class_correct[label] += predicted_correct[i].item()\n",
    "            class_total[label] += 1\n",
    "for i in range(len(classes)):\n",
    "    print('Accuracy of {}: [{:.0f}/{:.0f}] {:.1f}%'.format(\n",
    "        classes[i], class_correct[i], class_total[i], 100 * class_correct[i] / class_total[i]))"
   ]
  },
  {
   "cell_type": "code",
   "execution_count": null,
   "metadata": {},
   "outputs": [],
   "source": []
  }
 ],
 "metadata": {
  "kernelspec": {
   "display_name": "Python 3",
   "language": "python",
   "name": "python3"
  },
  "language_info": {
   "codemirror_mode": {
    "name": "ipython",
    "version": 3
   },
   "file_extension": ".py",
   "mimetype": "text/x-python",
   "name": "python",
   "nbconvert_exporter": "python",
   "pygments_lexer": "ipython3",
   "version": "3.7.4"
  }
 },
 "nbformat": 4,
 "nbformat_minor": 4
}
