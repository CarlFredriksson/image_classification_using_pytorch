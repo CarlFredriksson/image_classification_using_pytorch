{
 "cells": [
  {
   "cell_type": "markdown",
   "metadata": {},
   "source": [
    "# Introduction\n",
    "\n",
    "This notebook trains and evaluates a PyTorch CNN-model on the task of classifying images from the CIFAR10 dataset https://www.cs.toronto.edu/~kriz/cifar.html. I made it with the intent of learning PyTorch and it is based on the \"Training a Classifier\" tutorial from the PyTorch web site https://pytorch.org/tutorials/beginner/blitz/cifar10_tutorial.html. The source code can be found at https://github.com/CarlFredriksson/image_classification_using_pytorch.\n",
    "\n",
    "Let us start by importing some modules."
   ]
  },
  {
   "cell_type": "code",
   "execution_count": 5,
   "metadata": {},
   "outputs": [],
   "source": [
    "import time\n",
    "import torch\n",
    "import torch.nn as nn\n",
    "import torch.nn.functional as F\n",
    "import torch.optim as optim\n",
    "import torchvision\n",
    "import torchvision.transforms as transforms\n",
    "import matplotlib.pyplot as plt\n",
    "import numpy as np"
   ]
  },
  {
   "cell_type": "markdown",
   "metadata": {},
   "source": [
    "# Prepare Data\n",
    "\n",
    "The output of torchvision datasets are PILImage images with pixel values in the range [0,1]. We need to transform the images to PyTorch tensors and normalize their pixel values to be in the range [-1,1]. The transform `RandomHorizontalFlip` is a form of data augmentation that increases the size of training set by randomly flipping images horizontally with a given probability (0.5 by default) every time they are loaded. Increasing the size of the training set generally helps reduce overfitting and adding the `RandomHorizontalFlip` increased the final test accuracy. However, I tried a couple of the other data augmentation transforms and did not see an improvement in performance."
   ]
  },
  {
   "cell_type": "code",
   "execution_count": 8,
   "metadata": {},
   "outputs": [
    {
     "name": "stdout",
     "output_type": "stream",
     "text": [
      "Files already downloaded and verified\n",
      "Files already downloaded and verified\n",
      "Number of training examples: 50000\n",
      "Number of test examples: 10000\n"
     ]
    }
   ],
   "source": [
    "# Prepare training data\n",
    "train_transform = transforms.Compose([\n",
    "    transforms.RandomHorizontalFlip(),\n",
    "    transforms.ToTensor(),\n",
    "    transforms.Normalize((0.5, 0.5, 0.5), (0.5, 0.5, 0.5))\n",
    "])\n",
    "train_set = torchvision.datasets.CIFAR10(root='./data', train=True, download=True, transform=train_transform)\n",
    "train_loader = torch.utils.data.DataLoader(train_set, batch_size=128, shuffle=True, num_workers=2)\n",
    "\n",
    "# Prepare test data\n",
    "test_transform = transforms.Compose([\n",
    "    transforms.ToTensor(),\n",
    "    transforms.Normalize((0.5, 0.5, 0.5), (0.5, 0.5, 0.5))\n",
    "])\n",
    "test_set = torchvision.datasets.CIFAR10(root='./data', train=False, download=True, transform=test_transform)\n",
    "test_loader = torch.utils.data.DataLoader(test_set, batch_size=128, shuffle=False, num_workers=2)\n",
    "\n",
    "classes = ('plane', 'car', 'bird', 'cat', 'deer', 'dog', 'frog', 'horse', 'ship', 'truck')\n",
    "print('Number of training examples:', len(train_set))\n",
    "print('Number of test examples:', len(test_set))"
   ]
  },
  {
   "cell_type": "markdown",
   "metadata": {},
   "source": [
    "# Display Data"
   ]
  },
  {
   "cell_type": "markdown",
   "metadata": {},
   "source": [
    "Let us display some images from the training set to see what we are working with."
   ]
  },
  {
   "cell_type": "code",
   "execution_count": 9,
   "metadata": {},
   "outputs": [],
   "source": [
    "def imshow(img):\n",
    "    img = img / 2 + 0.5 # Un-normalize\n",
    "    np_img = img.numpy()\n",
    "    plt.imshow(np.transpose(np_img, (1, 2, 0)))\n",
    "    plt.show()"
   ]
  },
  {
   "cell_type": "code",
   "execution_count": 10,
   "metadata": {},
   "outputs": [
    {
     "data": {
      "image/png": "[encoded data removed]",
      "text/plain": [
       "<Figure size 432x288 with 1 Axes>"
      ]
     },
     "metadata": {
      "needs_background": "light"
     },
     "output_type": "display_data"
    },
    {
     "name": "stdout",
     "output_type": "stream",
     "text": [
      "Labels: car cat dog truck deer\n"
     ]
    }
   ],
   "source": [
    "# Show some random training images\n",
    "NUM_IMAGES_TO_SHOW = 5\n",
    "data_iter = iter(train_loader)\n",
    "images, labels = data_iter.next()\n",
    "imshow(torchvision.utils.make_grid(images[:NUM_IMAGES_TO_SHOW]))\n",
    "print('Labels:', ' '.join(f'{classes[labels[i]]}' for i in range(NUM_IMAGES_TO_SHOW)))"
   ]
  },
  {
   "cell_type": "markdown",
   "metadata": {},
   "source": [
    "# Create Model\n",
    "\n",
    "I tried several simple CNN-models and ended up with the one below. It does not achieve state of the art performance by any means but it is pretty decent. The model uses the common pattern of convolutional layers (+ ReLU activation function) that increase the number of channels but does not change the dimensions (height and width) followed by max pooling layers for dimensionality reduction (downsampling). A famous architecture that use this pattern is VGG16, introduced in (Simonyan, Zisserman, 2014, https://arxiv.org/abs/1409.1556). However, VGG16 is much deeper and has multiple convolutional layers per pooling layer. At the time of writing this notebook there is no option to specify `padding='SAME'` as in TensorFlow, which means that we have to do the padding calculations ourselves. Let $H_{in}, W_{in}$ be the height and width of the input and $H_{out}, W_{out}$ be the height and width of the output. Then\n",
    "\n",
    "$$\n",
    "H_{out} = \\frac{H_{in} + 2 \\times \\text{padding}[0] - \\text{dilation}[0] \\times (\\text{kernel_size}[0] - 1) - 1}{\\text{stride}[0]} + 1 \\\\\n",
    "W_{out} = \\frac{W_{in} + 2 \\times \\text{padding}[1] - \\text{dilation}[1] \\times (\\text{kernel_size}[1] - 1) - 1}{\\text{stride}[1]} + 1\n",
    "$$\n",
    "\n",
    "When `padding[0] = padding[1]`, `kernel_size[0] = kernel_size[1]`, `dilation[0] = dilation[1] = 1` (default), and `stride[0] = stride[1] = 1` (default), the equations can be reduced to\n",
    "\n",
    "$$\n",
    "H_{out} = H_{in} + 2 \\times \\text{padding} - \\text{kernel_size} + 1 \\\\\n",
    "W_{out} = W_{in} + 2 \\times \\text{padding} - \\text{kernel_size} + 1\n",
    "$$\n",
    "\n",
    "A dropout layer is added between the first and second fully connected layers to reduce overfitting. Note that there is no need to add a soft-max layer after the last fully connected layer, since it is added automatically by `torch.nn.CrossEntropyLoss()` during training and it is not needed during inference because argmax does not get affected by applying soft-max. "
   ]
  },
  {
   "cell_type": "code",
   "execution_count": 11,
   "metadata": {},
   "outputs": [],
   "source": [
    "class Net(nn.Module):\n",
    "    def __init__(self):\n",
    "        super(Net, self).__init__()\n",
    "        self.conv1 = nn.Conv2d(3, 16, 5, padding=2)\n",
    "        self.conv2 = nn.Conv2d(16, 32, 5, padding=2)\n",
    "        self.conv3 = nn.Conv2d(32, 64, 5, padding=2)\n",
    "        self.pool = nn.MaxPool2d(2, 2)\n",
    "        self.dropout = nn.Dropout(p=0.2)\n",
    "        self.fc1 = nn.Linear(64 * 4 * 4, 128)\n",
    "        self.fc2 = nn.Linear(128, 64)\n",
    "        self.fc3 = nn.Linear(64, 10)\n",
    "\n",
    "    def forward(self, x):\n",
    "        # x size: N x 3 x 32 x 32\n",
    "        x = F.relu(self.conv1(x))  # N x 16 x 32 x 32\n",
    "        x = self.pool(x) # N x 16 x 16 x 16\n",
    "        x = F.relu(self.conv2(x)) # N x 32 x 16 x 16\n",
    "        x = self.pool(x) # N x 32 x 8 x 8\n",
    "        x = F.relu(self.conv3(x)) # N x 64 x 8 x 8\n",
    "        x = self.pool(x) # N x 64 x 4 x 4\n",
    "        x = x.view(-1, 64 * 4 * 4) # N x 1024\n",
    "        x = F.relu(self.fc1(x)) # N x 128\n",
    "        x = self.dropout(x)\n",
    "        x = F.relu(self.fc2(x)) # N x 64\n",
    "        x = self.fc3(x) # N x 10\n",
    "        return x"
   ]
  },
  {
   "cell_type": "code",
   "execution_count": 6,
   "metadata": {},
   "outputs": [
    {
     "name": "stdout",
     "output_type": "stream",
     "text": [
      "Device: cuda:0\n"
     ]
    }
   ],
   "source": [
    "# Create model\n",
    "net = Net()\n",
    "device = torch.device('cuda:0' if torch.cuda.is_available() else 'cpu')\n",
    "net.to(device)\n",
    "print('Device:', device)"
   ]
  },
  {
   "cell_type": "code",
   "execution_count": 7,
   "metadata": {},
   "outputs": [],
   "source": [
    "# Create optimizer\n",
    "criterion = nn.CrossEntropyLoss()\n",
    "optimizer = optim.SGD(net.parameters(), lr=0.001, momentum=0.9)"
   ]
  },
  {
   "cell_type": "markdown",
   "metadata": {},
   "source": [
    "# Train model"
   ]
  },
  {
   "cell_type": "code",
   "execution_count": 8,
   "metadata": {},
   "outputs": [],
   "source": [
    "def compute_test_accuracy():\n",
    "    num_total = len(test_set)\n",
    "    num_correct = 0\n",
    "    with torch.no_grad():\n",
    "        for data in test_loader:\n",
    "            images, labels = data[0].to(device), data[1].to(device)\n",
    "            outputs = net(images)\n",
    "            predictions = torch.argmax(outputs.data, 1)\n",
    "            num_correct += (predictions == labels).sum().item()\n",
    "    return num_correct / num_total"
   ]
  },
  {
   "cell_type": "code",
   "execution_count": 9,
   "metadata": {},
   "outputs": [
    {
     "name": "stdout",
     "output_type": "stream",
     "text": [
      "Number of iterations per epoch: 391\n"
     ]
    }
   ],
   "source": [
    "print('Number of iterations per epoch:', len(train_loader))"
   ]
  },
  {
   "cell_type": "code",
   "execution_count": 10,
   "metadata": {},
   "outputs": [
    {
     "name": "stdout",
     "output_type": "stream",
     "text": [
      "Starting training\n",
      "Epoch [0/99] loss: 2.30360 accuracy: 10.00% test accuracy: 10.00%\n",
      "Epoch [1/99] loss: 2.30155 accuracy: 10.01% test accuracy: 10.00%\n",
      "Epoch [2/99] loss: 2.29920 accuracy: 12.83% test accuracy: 15.35%\n",
      "Epoch [3/99] loss: 2.29275 accuracy: 17.57% test accuracy: 20.81%\n",
      "Epoch [4/99] loss: 2.24175 accuracy: 18.97% test accuracy: 21.59%\n",
      "Epoch [5/99] loss: 2.09558 accuracy: 23.37% test accuracy: 27.59%\n",
      "Epoch [6/99] loss: 1.97061 accuracy: 27.77% test accuracy: 31.93%\n",
      "Epoch [7/99] loss: 1.84467 accuracy: 32.14% test accuracy: 35.85%\n",
      "Epoch [8/99] loss: 1.72692 accuracy: 35.57% test accuracy: 38.08%\n",
      "Epoch [9/99] loss: 1.65726 accuracy: 38.25% test accuracy: 40.39%\n",
      "Epoch [10/99] loss: 1.61220 accuracy: 40.17% test accuracy: 41.56%\n",
      "Epoch [11/99] loss: 1.56836 accuracy: 41.91% test accuracy: 43.34%\n",
      "Epoch [12/99] loss: 1.53335 accuracy: 43.59% test accuracy: 45.30%\n",
      "Epoch [13/99] loss: 1.49694 accuracy: 45.18% test accuracy: 46.64%\n",
      "Epoch [14/99] loss: 1.46279 accuracy: 46.46% test accuracy: 47.92%\n",
      "Epoch [15/99] loss: 1.42897 accuracy: 47.71% test accuracy: 49.56%\n",
      "Epoch [16/99] loss: 1.39461 accuracy: 49.20% test accuracy: 51.53%\n",
      "Epoch [17/99] loss: 1.35897 accuracy: 50.86% test accuracy: 51.77%\n",
      "Epoch [18/99] loss: 1.32798 accuracy: 51.63% test accuracy: 53.13%\n",
      "Epoch [19/99] loss: 1.30149 accuracy: 52.81% test accuracy: 54.27%\n",
      "Epoch [20/99] loss: 1.27150 accuracy: 54.13% test accuracy: 55.15%\n",
      "Epoch [21/99] loss: 1.24415 accuracy: 55.06% test accuracy: 56.48%\n",
      "Epoch [22/99] loss: 1.21431 accuracy: 56.33% test accuracy: 58.27%\n",
      "Epoch [23/99] loss: 1.18734 accuracy: 57.20% test accuracy: 59.55%\n",
      "Epoch [24/99] loss: 1.16217 accuracy: 58.07% test accuracy: 58.49%\n",
      "Epoch [25/99] loss: 1.13330 accuracy: 59.30% test accuracy: 61.02%\n",
      "Epoch [26/99] loss: 1.10838 accuracy: 60.14% test accuracy: 62.22%\n",
      "Epoch [27/99] loss: 1.08130 accuracy: 61.14% test accuracy: 62.78%\n",
      "Epoch [28/99] loss: 1.05869 accuracy: 62.17% test accuracy: 63.49%\n",
      "Epoch [29/99] loss: 1.03632 accuracy: 63.04% test accuracy: 64.07%\n",
      "Epoch [30/99] loss: 1.01563 accuracy: 63.66% test accuracy: 64.34%\n",
      "Epoch [31/99] loss: 0.99897 accuracy: 64.33% test accuracy: 65.54%\n",
      "Epoch [32/99] loss: 0.97555 accuracy: 65.27% test accuracy: 65.61%\n",
      "Epoch [33/99] loss: 0.95719 accuracy: 66.10% test accuracy: 65.18%\n",
      "Epoch [34/99] loss: 0.93797 accuracy: 66.64% test accuracy: 67.15%\n",
      "Epoch [35/99] loss: 0.92423 accuracy: 67.25% test accuracy: 67.27%\n",
      "Epoch [36/99] loss: 0.90244 accuracy: 68.21% test accuracy: 67.85%\n",
      "Epoch [37/99] loss: 0.88736 accuracy: 68.56% test accuracy: 68.74%\n",
      "Epoch [38/99] loss: 0.87277 accuracy: 69.22% test accuracy: 68.81%\n",
      "Epoch [39/99] loss: 0.86501 accuracy: 69.32% test accuracy: 67.93%\n",
      "Epoch [40/99] loss: 0.84568 accuracy: 70.07% test accuracy: 69.72%\n",
      "Epoch [41/99] loss: 0.83230 accuracy: 70.66% test accuracy: 69.39%\n",
      "Epoch [42/99] loss: 0.82069 accuracy: 71.04% test accuracy: 69.76%\n",
      "Epoch [43/99] loss: 0.80661 accuracy: 71.45% test accuracy: 70.60%\n",
      "Epoch [44/99] loss: 0.79507 accuracy: 72.04% test accuracy: 70.56%\n",
      "Epoch [45/99] loss: 0.78286 accuracy: 72.45% test accuracy: 71.27%\n",
      "Epoch [46/99] loss: 0.77063 accuracy: 72.83% test accuracy: 72.07%\n",
      "Epoch [47/99] loss: 0.75616 accuracy: 73.40% test accuracy: 72.40%\n",
      "Epoch [48/99] loss: 0.74653 accuracy: 73.77% test accuracy: 72.68%\n",
      "Epoch [49/99] loss: 0.73005 accuracy: 74.31% test accuracy: 72.75%\n",
      "Epoch [50/99] loss: 0.72432 accuracy: 74.50% test accuracy: 72.95%\n",
      "Epoch [51/99] loss: 0.71400 accuracy: 74.73% test accuracy: 73.91%\n",
      "Epoch [52/99] loss: 0.70586 accuracy: 75.39% test accuracy: 72.91%\n",
      "Epoch [53/99] loss: 0.69582 accuracy: 75.56% test accuracy: 73.61%\n",
      "Epoch [54/99] loss: 0.68625 accuracy: 75.71% test accuracy: 73.28%\n",
      "Epoch [55/99] loss: 0.68124 accuracy: 76.07% test accuracy: 74.50%\n",
      "Epoch [56/99] loss: 0.66640 accuracy: 76.54% test accuracy: 74.32%\n",
      "Epoch [57/99] loss: 0.65641 accuracy: 76.91% test accuracy: 75.23%\n",
      "Epoch [58/99] loss: 0.65088 accuracy: 77.11% test accuracy: 74.94%\n",
      "Epoch [59/99] loss: 0.63545 accuracy: 77.51% test accuracy: 75.39%\n",
      "Epoch [60/99] loss: 0.62602 accuracy: 77.89% test accuracy: 75.01%\n",
      "Epoch [61/99] loss: 0.62106 accuracy: 78.23% test accuracy: 75.66%\n",
      "Epoch [62/99] loss: 0.61619 accuracy: 78.33% test accuracy: 75.38%\n",
      "Epoch [63/99] loss: 0.60699 accuracy: 78.82% test accuracy: 75.67%\n",
      "Epoch [64/99] loss: 0.60075 accuracy: 79.09% test accuracy: 76.22%\n",
      "Epoch [65/99] loss: 0.59052 accuracy: 79.11% test accuracy: 75.88%\n",
      "Epoch [66/99] loss: 0.58419 accuracy: 79.51% test accuracy: 75.72%\n",
      "Epoch [67/99] loss: 0.58312 accuracy: 79.39% test accuracy: 75.71%\n",
      "Epoch [68/99] loss: 0.56899 accuracy: 80.19% test accuracy: 75.83%\n",
      "Epoch [69/99] loss: 0.56147 accuracy: 80.22% test accuracy: 75.91%\n",
      "Epoch [70/99] loss: 0.55972 accuracy: 80.28% test accuracy: 76.18%\n",
      "Epoch [71/99] loss: 0.55021 accuracy: 80.64% test accuracy: 75.95%\n",
      "Epoch [72/99] loss: 0.54606 accuracy: 80.74% test accuracy: 76.20%\n",
      "Epoch [73/99] loss: 0.53281 accuracy: 81.27% test accuracy: 76.27%\n",
      "Epoch [74/99] loss: 0.53538 accuracy: 81.19% test accuracy: 76.47%\n",
      "Epoch [75/99] loss: 0.52558 accuracy: 81.45% test accuracy: 77.00%\n",
      "Epoch [76/99] loss: 0.51981 accuracy: 81.65% test accuracy: 76.52%\n",
      "Epoch [77/99] loss: 0.50825 accuracy: 82.00% test accuracy: 76.89%\n",
      "Epoch [78/99] loss: 0.50333 accuracy: 82.28% test accuracy: 76.96%\n",
      "Epoch [79/99] loss: 0.50206 accuracy: 82.36% test accuracy: 76.79%\n",
      "Epoch [80/99] loss: 0.49392 accuracy: 82.55% test accuracy: 76.76%\n",
      "Epoch [81/99] loss: 0.48316 accuracy: 82.97% test accuracy: 76.93%\n",
      "Epoch [82/99] loss: 0.47970 accuracy: 83.11% test accuracy: 76.91%\n",
      "Epoch [83/99] loss: 0.47717 accuracy: 83.22% test accuracy: 76.87%\n",
      "Epoch [84/99] loss: 0.47260 accuracy: 83.18% test accuracy: 76.46%\n",
      "Epoch [85/99] loss: 0.46451 accuracy: 83.55% test accuracy: 77.42%\n",
      "Epoch [86/99] loss: 0.45908 accuracy: 83.75% test accuracy: 77.09%\n",
      "Epoch [87/99] loss: 0.45239 accuracy: 83.83% test accuracy: 77.27%\n",
      "Epoch [88/99] loss: 0.44467 accuracy: 84.22% test accuracy: 77.08%\n",
      "Epoch [89/99] loss: 0.44487 accuracy: 84.19% test accuracy: 76.68%\n",
      "Epoch [90/99] loss: 0.43725 accuracy: 84.40% test accuracy: 77.16%\n",
      "Epoch [91/99] loss: 0.43295 accuracy: 84.73% test accuracy: 76.71%\n",
      "Epoch [92/99] loss: 0.43078 accuracy: 84.72% test accuracy: 76.95%\n",
      "Epoch [93/99] loss: 0.42309 accuracy: 85.12% test accuracy: 76.90%\n",
      "Epoch [94/99] loss: 0.42208 accuracy: 84.92% test accuracy: 77.34%\n",
      "Epoch [95/99] loss: 0.41130 accuracy: 85.31% test accuracy: 77.05%\n",
      "Epoch [96/99] loss: 0.41083 accuracy: 85.29% test accuracy: 77.20%\n",
      "Epoch [97/99] loss: 0.39770 accuracy: 85.77% test accuracy: 77.24%\n",
      "Epoch [98/99] loss: 0.39740 accuracy: 85.83% test accuracy: 77.49%\n",
      "Epoch [99/99] loss: 0.39202 accuracy: 86.06% test accuracy: 77.45%\n",
      "Finished training - elapsed_time: 1297 sec\n"
     ]
    }
   ],
   "source": [
    "# Train model\n",
    "NUM_EPOCHS = 100\n",
    "loss_per_epoch = np.zeros(NUM_EPOCHS)\n",
    "accuracy_per_epoch = np.zeros(NUM_EPOCHS)\n",
    "test_accuracy_per_epoch = np.zeros(NUM_EPOCHS)\n",
    "print('Starting training')\n",
    "start_time = time.perf_counter()\n",
    "for epoch in range(NUM_EPOCHS):\n",
    "    for i, data in enumerate(train_loader):\n",
    "        inputs, labels = data[0].to(device), data[1].to(device)\n",
    "\n",
    "        # Zero the parameter gradients\n",
    "        optimizer.zero_grad()\n",
    "\n",
    "        # Forward + backward + optimize\n",
    "        outputs = net(inputs)\n",
    "        predictions = torch.argmax(outputs.data, 1)\n",
    "        loss = criterion(outputs, labels)\n",
    "        loss.backward()\n",
    "        optimizer.step()\n",
    "\n",
    "        loss_per_epoch[epoch] += loss.item() / len(train_loader)\n",
    "        accuracy_per_epoch[epoch] += (predictions == labels).sum().item() / len(train_set)\n",
    "    # Compute test accuracy\n",
    "    net.train(False)\n",
    "    test_accuracy_per_epoch[epoch] = compute_test_accuracy()\n",
    "    net.train(True)\n",
    "\n",
    "    # Print statistics\n",
    "    print('Epoch [{}/{}] loss: {:.5f} accuracy: {:.2f}% test accuracy: {:.2f}%'.format(\n",
    "        epoch, NUM_EPOCHS - 1, loss_per_epoch[epoch],\n",
    "        100 * accuracy_per_epoch[epoch],\n",
    "        100 * test_accuracy_per_epoch[epoch]))\n",
    "elapsed_time = time.perf_counter() - start_time\n",
    "print(f'Finished training - elapsed_time: {elapsed_time:.0f} sec')"
   ]
  },
  {
   "cell_type": "code",
   "execution_count": 11,
   "metadata": {},
   "outputs": [
    {
     "data": {
      "image/png": "[encoded data removed]",
      "text/plain": [
       "<Figure size 720x288 with 2 Axes>"
      ]
     },
     "metadata": {
      "needs_background": "light"
     },
     "output_type": "display_data"
    }
   ],
   "source": [
    "fig, ax = plt.subplots(1, 2, figsize=(10, 4))\n",
    "ax[0].plot(np.arange(NUM_EPOCHS), loss_per_epoch)\n",
    "ax[0].set_xlabel('Epoch')\n",
    "ax[0].set_ylabel('Cross entropy loss')\n",
    "ax[1].plot(np.arange(NUM_EPOCHS), 100 * accuracy_per_epoch, label='Training accuracy')\n",
    "ax[1].plot(np.arange(NUM_EPOCHS), 100 * test_accuracy_per_epoch, label='Test accuracy')\n",
    "ax[1].set_xlabel('Epoch')\n",
    "ax[1].set_ylabel('Accuracy %')\n",
    "ax[1].legend()\n",
    "plt.show()"
   ]
  },
  {
   "cell_type": "markdown",
   "metadata": {},
   "source": [
    "# Saving and Loading Models"
   ]
  },
  {
   "cell_type": "code",
   "execution_count": 12,
   "metadata": {},
   "outputs": [],
   "source": [
    "# Save trained model\n",
    "save_path = './nn_cifar10.pth'\n",
    "torch.save(net.state_dict(), save_path)"
   ]
  },
  {
   "cell_type": "code",
   "execution_count": 13,
   "metadata": {},
   "outputs": [
    {
     "name": "stdout",
     "output_type": "stream",
     "text": [
      "True\n"
     ]
    }
   ],
   "source": [
    "# Load trained model (obviously not necessary if you run the whole notebook)\n",
    "net = Net()\n",
    "net.load_state_dict(torch.load(save_path))\n",
    "net.to(device)\n",
    "print(net.training)"
   ]
  },
  {
   "cell_type": "markdown",
   "metadata": {},
   "source": [
    "# Test the Model\n",
    "\n",
    "Make sure that the model is in evaluation mode to disable the dropout layers."
   ]
  },
  {
   "cell_type": "code",
   "execution_count": 14,
   "metadata": {},
   "outputs": [
    {
     "name": "stdout",
     "output_type": "stream",
     "text": [
      "False\n"
     ]
    }
   ],
   "source": [
    "# Make sure that the model is in eval mode\n",
    "net.eval()\n",
    "print(net.training)"
   ]
  },
  {
   "cell_type": "code",
   "execution_count": 15,
   "metadata": {},
   "outputs": [
    {
     "data": {
      "image/png": "[encoded data removed]",
      "text/plain": [
       "<Figure size 432x288 with 1 Axes>"
      ]
     },
     "metadata": {
      "needs_background": "light"
     },
     "output_type": "display_data"
    },
    {
     "name": "stdout",
     "output_type": "stream",
     "text": [
      "Labels: cat ship ship plane frog\n"
     ]
    }
   ],
   "source": [
    "# Show some test images\n",
    "data_iter = iter(test_loader)\n",
    "images, labels = data_iter.next()\n",
    "imshow(torchvision.utils.make_grid(images[:NUM_IMAGES_TO_SHOW]))\n",
    "print('Labels:', ' '.join(f'{classes[labels[i]]}' for i in range(NUM_IMAGES_TO_SHOW)))"
   ]
  },
  {
   "cell_type": "code",
   "execution_count": 16,
   "metadata": {},
   "outputs": [
    {
     "name": "stdout",
     "output_type": "stream",
     "text": [
      "predictions: cat ship ship plane deer\n"
     ]
    }
   ],
   "source": [
    "# Predict classes for the random test images\n",
    "outputs = net(images.to(device))\n",
    "predictions = torch.argmax(outputs, 1)\n",
    "print('predictions:', ' '.join(f'{classes[predictions[i]]}' for i in range(NUM_IMAGES_TO_SHOW)))"
   ]
  },
  {
   "cell_type": "code",
   "execution_count": 17,
   "metadata": {},
   "outputs": [
    {
     "name": "stdout",
     "output_type": "stream",
     "text": [
      "Accuracy of the model on the 10000 test images: 77.45%\n"
     ]
    }
   ],
   "source": [
    "print('Accuracy of the model on the {} test images: {}%'.format(\n",
    "    len(test_set), 100 * compute_test_accuracy()))"
   ]
  },
  {
   "cell_type": "code",
   "execution_count": 18,
   "metadata": {},
   "outputs": [
    {
     "name": "stdout",
     "output_type": "stream",
     "text": [
      "Accuracy of plane: [814/1000] 81.4%\n",
      "Accuracy of car: [880/1000] 88.0%\n",
      "Accuracy of bird: [672/1000] 67.2%\n",
      "Accuracy of cat: [667/1000] 66.7%\n",
      "Accuracy of deer: [759/1000] 75.9%\n",
      "Accuracy of dog: [619/1000] 61.9%\n",
      "Accuracy of frog: [823/1000] 82.3%\n",
      "Accuracy of horse: [805/1000] 80.5%\n",
      "Accuracy of ship: [858/1000] 85.8%\n",
      "Accuracy of truck: [848/1000] 84.8%\n"
     ]
    }
   ],
   "source": [
    "# Check the accuracy per class\n",
    "class_correct = np.zeros(len(classes))\n",
    "class_total = np.zeros(len(classes))\n",
    "with torch.no_grad():\n",
    "    for data in test_loader:\n",
    "        images, labels = data[0].to(device), data[1].to(device)\n",
    "        outputs = net(images)\n",
    "        predictions = torch.argmax(outputs, 1)\n",
    "        predictions_correct = (predictions == labels).squeeze()\n",
    "        for i in range(len(labels)):\n",
    "            label = labels[i]\n",
    "            class_correct[label] += predictions_correct[i].item()\n",
    "            class_total[label] += 1\n",
    "for i in range(len(classes)):\n",
    "    print('Accuracy of {}: [{:.0f}/{:.0f}] {:.1f}%'.format(\n",
    "        classes[i], class_correct[i], class_total[i], 100 * class_correct[i] / class_total[i]))"
   ]
  },
  {
   "cell_type": "code",
   "execution_count": null,
   "metadata": {},
   "outputs": [],
   "source": []
  }
 ],
 "metadata": {
  "kernelspec": {
   "display_name": "Python 3",
   "language": "python",
   "name": "python3"
  },
  "language_info": {
   "codemirror_mode": {
    "name": "ipython",
    "version": 3
   },
   "file_extension": ".py",
   "mimetype": "text/x-python",
   "name": "python",
   "nbconvert_exporter": "python",
   "pygments_lexer": "ipython3",
   "version": "3.7.4"
  }
 },
 "nbformat": 4,
 "nbformat_minor": 4
}
