{
 "cells": [
  {
   "cell_type": "code",
   "execution_count": 1,
   "metadata": {},
   "outputs": [],
   "source": [
    "import time\n",
    "import torch\n",
    "import torch.nn as nn\n",
    "import torch.nn.functional as F\n",
    "import torch.optim as optim\n",
    "import torchvision\n",
    "import torchvision.transforms as transforms\n",
    "import matplotlib.pyplot as plt\n",
    "import numpy as np"
   ]
  },
  {
   "cell_type": "code",
   "execution_count": 2,
   "metadata": {},
   "outputs": [
    {
     "name": "stdout",
     "output_type": "stream",
     "text": [
      "Files already downloaded and verified\n",
      "Files already downloaded and verified\n",
      "Number of training examples: 50000\n",
      "Number of test examples: 10000\n"
     ]
    }
   ],
   "source": [
    "# Prepare data\n",
    "transform = transforms.Compose(\n",
    "    [transforms.ToTensor(), transforms.Normalize((0.5, 0.5, 0.5), (0.5, 0.5, 0.5))])\n",
    "train_set = torchvision.datasets.CIFAR10(\n",
    "    root='./data', train=True, download=True, transform=transform)\n",
    "train_loader = torch.utils.data.DataLoader(\n",
    "    train_set, batch_size=128, shuffle=True, num_workers=2)\n",
    "test_set = torchvision.datasets.CIFAR10(\n",
    "    root='./data', train=False, download=True, transform=transform)\n",
    "test_loader = torch.utils.data.DataLoader(\n",
    "    test_set, batch_size=128, shuffle=False, num_workers=2)\n",
    "classes = ('plane', 'car', 'bird', 'cat', 'deer', 'dog', 'frog', 'horse', 'ship', 'truck')\n",
    "print('Number of training examples:', len(train_set))\n",
    "print('Number of test examples:', len(test_set))"
   ]
  },
  {
   "cell_type": "code",
   "execution_count": 3,
   "metadata": {},
   "outputs": [],
   "source": [
    "def imshow(img):\n",
    "    img = img / 2 + 0.5 # Un-normalize\n",
    "    np_img = img.numpy()\n",
    "    plt.imshow(np.transpose(np_img, (1, 2, 0)))\n",
    "    plt.show()"
   ]
  },
  {
   "cell_type": "code",
   "execution_count": 4,
   "metadata": {},
   "outputs": [
    {
     "data": {
      "image/png": "[encoded data removed]",
      "text/plain": [
       "<Figure size 432x288 with 1 Axes>"
      ]
     },
     "metadata": {
      "needs_background": "light"
     },
     "output_type": "display_data"
    },
    {
     "name": "stdout",
     "output_type": "stream",
     "text": [
      "Labels: ship ship frog car car\n"
     ]
    }
   ],
   "source": [
    "# Show some random training images\n",
    "NUM_IMAGES_TO_SHOW = 5\n",
    "data_iter = iter(train_loader)\n",
    "images, labels = data_iter.next()\n",
    "imshow(torchvision.utils.make_grid(images[:NUM_IMAGES_TO_SHOW]))\n",
    "print('Labels:', ' '.join(f'{classes[labels[i]]}' for i in range(NUM_IMAGES_TO_SHOW)))"
   ]
  },
  {
   "cell_type": "code",
   "execution_count": 5,
   "metadata": {},
   "outputs": [],
   "source": [
    "class Net(nn.Module):\n",
    "    def __init__(self):\n",
    "        super(Net, self).__init__()\n",
    "        self.conv1 = nn.Conv2d(3, 16, 5, padding=2)\n",
    "        self.conv2 = nn.Conv2d(16, 32, 5, padding=2)\n",
    "        self.conv3 = nn.Conv2d(32, 64, 5, padding=2)\n",
    "        self.pool = nn.MaxPool2d(2, 2)\n",
    "        self.fc1 = nn.Linear(64 * 4 * 4, 128)\n",
    "        self.fc2 = nn.Linear(128, 64)\n",
    "        self.fc3 = nn.Linear(64, 10)\n",
    "\n",
    "    def forward(self, x):\n",
    "        # x size: N x 3 x 32 x 32\n",
    "        x = F.relu(self.conv1(x))  # N x 16 x 32 x 32\n",
    "        x = self.pool(x) # N x 16 x 16 x 16\n",
    "        x = F.relu(self.conv2(x)) # N x 32 x 16 x 16\n",
    "        x = self.pool(x) # N x 32 x 8 x 8\n",
    "        x = F.relu(self.conv3(x)) # N x 64 x 8 x 8\n",
    "        x = self.pool(x) # N x 64 x 4 x 4\n",
    "        x = x.view(-1, 64 * 4 * 4) # N x 1024\n",
    "        x = F.relu(self.fc1(x)) # N x 124\n",
    "        x = F.relu(self.fc2(x)) # N x 64\n",
    "        x = self.fc3(x) # N x 10\n",
    "        # Soft-max is added automatically by nn.CrossEntropyLoss().\n",
    "        # It is not needed during inference because argmax\n",
    "        # does not get affected by applying soft-max.\n",
    "        return x"
   ]
  },
  {
   "cell_type": "code",
   "execution_count": 6,
   "metadata": {},
   "outputs": [
    {
     "name": "stdout",
     "output_type": "stream",
     "text": [
      "Device: cuda:0\n"
     ]
    }
   ],
   "source": [
    "# Create model\n",
    "net = Net()\n",
    "#device = 'cpu'\n",
    "device = torch.device('cuda:0' if torch.cuda.is_available() else 'cpu')\n",
    "net.to(device)\n",
    "print('Device:', device)"
   ]
  },
  {
   "cell_type": "code",
   "execution_count": 7,
   "metadata": {},
   "outputs": [],
   "source": [
    "# Create optimizer\n",
    "criterion = nn.CrossEntropyLoss()\n",
    "optimizer = optim.SGD(net.parameters(), lr=0.001, momentum=0.9)"
   ]
  },
  {
   "cell_type": "code",
   "execution_count": 8,
   "metadata": {},
   "outputs": [
    {
     "name": "stdout",
     "output_type": "stream",
     "text": [
      "Number of iterations per epoch: 391\n"
     ]
    }
   ],
   "source": [
    "print('Number of iterations per epoch:', len(train_loader))"
   ]
  },
  {
   "cell_type": "code",
   "execution_count": 9,
   "metadata": {},
   "outputs": [
    {
     "name": "stdout",
     "output_type": "stream",
     "text": [
      "Starting training\n",
      "Epoch [0/49] loss: 2.30232 accuracy: 10.00%\n",
      "Epoch [1/49] loss: 2.29627 accuracy: 12.23%\n",
      "Epoch [2/49] loss: 2.25450 accuracy: 17.26%\n",
      "Epoch [3/49] loss: 2.11833 accuracy: 22.66%\n",
      "Epoch [4/49] loss: 1.95351 accuracy: 29.30%\n",
      "Epoch [5/49] loss: 1.82772 accuracy: 33.41%\n",
      "Epoch [6/49] loss: 1.72685 accuracy: 37.13%\n",
      "Epoch [7/49] loss: 1.64805 accuracy: 39.40%\n",
      "Epoch [8/49] loss: 1.59574 accuracy: 41.56%\n",
      "Epoch [9/49] loss: 1.54012 accuracy: 43.49%\n",
      "Epoch [10/49] loss: 1.49695 accuracy: 45.26%\n",
      "Epoch [11/49] loss: 1.45509 accuracy: 47.14%\n",
      "Epoch [12/49] loss: 1.41187 accuracy: 48.67%\n",
      "Epoch [13/49] loss: 1.36821 accuracy: 50.27%\n",
      "Epoch [14/49] loss: 1.32655 accuracy: 51.96%\n",
      "Epoch [15/49] loss: 1.28710 accuracy: 53.63%\n",
      "Epoch [16/49] loss: 1.24512 accuracy: 55.43%\n",
      "Epoch [17/49] loss: 1.21295 accuracy: 56.38%\n",
      "Epoch [18/49] loss: 1.18020 accuracy: 57.79%\n",
      "Epoch [19/49] loss: 1.14387 accuracy: 59.10%\n",
      "Epoch [20/49] loss: 1.11099 accuracy: 60.57%\n",
      "Epoch [21/49] loss: 1.07570 accuracy: 61.79%\n",
      "Epoch [22/49] loss: 1.04695 accuracy: 62.76%\n",
      "Epoch [23/49] loss: 1.01771 accuracy: 64.10%\n",
      "Epoch [24/49] loss: 0.98595 accuracy: 65.07%\n",
      "Epoch [25/49] loss: 0.96351 accuracy: 65.97%\n",
      "Epoch [26/49] loss: 0.93957 accuracy: 66.69%\n",
      "Epoch [27/49] loss: 0.90760 accuracy: 68.12%\n",
      "Epoch [28/49] loss: 0.88930 accuracy: 68.59%\n",
      "Epoch [29/49] loss: 0.86857 accuracy: 69.42%\n",
      "Epoch [30/49] loss: 0.84150 accuracy: 70.41%\n",
      "Epoch [31/49] loss: 0.81796 accuracy: 71.13%\n",
      "Epoch [32/49] loss: 0.80553 accuracy: 71.87%\n",
      "Epoch [33/49] loss: 0.78178 accuracy: 72.65%\n",
      "Epoch [34/49] loss: 0.76306 accuracy: 73.15%\n",
      "Epoch [35/49] loss: 0.74382 accuracy: 73.92%\n",
      "Epoch [36/49] loss: 0.72201 accuracy: 74.71%\n",
      "Epoch [37/49] loss: 0.71096 accuracy: 75.11%\n",
      "Epoch [38/49] loss: 0.69384 accuracy: 75.68%\n",
      "Epoch [39/49] loss: 0.67448 accuracy: 76.37%\n",
      "Epoch [40/49] loss: 0.66108 accuracy: 76.88%\n",
      "Epoch [41/49] loss: 0.64436 accuracy: 77.59%\n",
      "Epoch [42/49] loss: 0.62598 accuracy: 78.11%\n",
      "Epoch [43/49] loss: 0.61172 accuracy: 78.65%\n",
      "Epoch [44/49] loss: 0.59663 accuracy: 79.11%\n",
      "Epoch [45/49] loss: 0.57897 accuracy: 79.68%\n",
      "Epoch [46/49] loss: 0.56317 accuracy: 80.42%\n",
      "Epoch [47/49] loss: 0.54361 accuracy: 81.00%\n",
      "Epoch [48/49] loss: 0.53345 accuracy: 81.23%\n",
      "Epoch [49/49] loss: 0.51347 accuracy: 82.13%\n",
      "Finished training - elapsed_time: 482 sec\n"
     ]
    }
   ],
   "source": [
    "# Train model\n",
    "NUM_EPOCHS = 50\n",
    "loss_per_epoch = np.zeros(NUM_EPOCHS)\n",
    "accuracy_per_epoch = np.zeros(NUM_EPOCHS)\n",
    "print('Starting training')\n",
    "start_time = time.perf_counter()\n",
    "for epoch in range(NUM_EPOCHS):\n",
    "    for i, data in enumerate(train_loader):\n",
    "        inputs, labels = data[0].to(device), data[1].to(device)\n",
    "\n",
    "        # Zero the parameter gradients\n",
    "        optimizer.zero_grad()\n",
    "\n",
    "        # Forward + backward + optimize\n",
    "        outputs = net(inputs)\n",
    "        predicted = torch.argmax(outputs.data, 1)\n",
    "        loss = criterion(outputs, labels)\n",
    "        loss.backward()\n",
    "        optimizer.step()\n",
    "\n",
    "        loss_per_epoch[epoch] += loss.item() / len(train_loader)\n",
    "        accuracy_per_epoch[epoch] += (predicted == labels).sum().item() / len(train_set)\n",
    "    # Print statistics\n",
    "    print('Epoch [{}/{}] loss: {:.5f} accuracy: {:.2f}%'.format(\n",
    "        epoch, NUM_EPOCHS - 1, loss_per_epoch[epoch], 100 * accuracy_per_epoch[epoch]))\n",
    "elapsed_time = time.perf_counter() - start_time\n",
    "print(f'Finished training - elapsed_time: {elapsed_time:.0f} sec')"
   ]
  },
  {
   "cell_type": "code",
   "execution_count": 10,
   "metadata": {},
   "outputs": [
    {
     "data": {
      "image/png": "[encoded data removed]",
      "text/plain": [
       "<Figure size 720x288 with 2 Axes>"
      ]
     },
     "metadata": {
      "needs_background": "light"
     },
     "output_type": "display_data"
    }
   ],
   "source": [
    "fig, ax = plt.subplots(1, 2, figsize=(10, 4))\n",
    "ax[0].plot(np.arange(NUM_EPOCHS), loss_per_epoch)\n",
    "ax[0].set_xlabel('Epoch')\n",
    "ax[0].set_ylabel('Cross entropy loss')\n",
    "ax[1].plot(np.arange(NUM_EPOCHS), 100* accuracy_per_epoch)\n",
    "ax[1].set_xlabel('Epoch')\n",
    "ax[1].set_ylabel('Accuracy %')\n",
    "plt.show()"
   ]
  },
  {
   "cell_type": "code",
   "execution_count": 11,
   "metadata": {},
   "outputs": [],
   "source": [
    "# Save trained model\n",
    "save_path = './nn_cifar10.pth'\n",
    "torch.save(net.state_dict(), save_path)"
   ]
  },
  {
   "cell_type": "code",
   "execution_count": 12,
   "metadata": {},
   "outputs": [
    {
     "data": {
      "text/plain": [
       "Net(\n",
       "  (conv1): Conv2d(3, 16, kernel_size=(5, 5), stride=(1, 1), padding=(2, 2))\n",
       "  (conv2): Conv2d(16, 32, kernel_size=(5, 5), stride=(1, 1), padding=(2, 2))\n",
       "  (conv3): Conv2d(32, 64, kernel_size=(5, 5), stride=(1, 1), padding=(2, 2))\n",
       "  (pool): MaxPool2d(kernel_size=2, stride=2, padding=0, dilation=1, ceil_mode=False)\n",
       "  (fc1): Linear(in_features=1024, out_features=128, bias=True)\n",
       "  (fc2): Linear(in_features=128, out_features=64, bias=True)\n",
       "  (fc3): Linear(in_features=64, out_features=10, bias=True)\n",
       ")"
      ]
     },
     "execution_count": 12,
     "metadata": {},
     "output_type": "execute_result"
    }
   ],
   "source": [
    "# Load trained model (obviously not necessary if you run the whole notebook)\n",
    "net = Net()\n",
    "net.load_state_dict(torch.load(save_path))\n",
    "net.to(device)\n",
    "net.eval()"
   ]
  },
  {
   "cell_type": "code",
   "execution_count": 13,
   "metadata": {},
   "outputs": [
    {
     "data": {
      "image/png": "[encoded data removed]",
      "text/plain": [
       "<Figure size 432x288 with 1 Axes>"
      ]
     },
     "metadata": {
      "needs_background": "light"
     },
     "output_type": "display_data"
    },
    {
     "name": "stdout",
     "output_type": "stream",
     "text": [
      "Labels: cat ship ship plane frog\n"
     ]
    }
   ],
   "source": [
    "# Show some test images\n",
    "data_iter = iter(test_loader)\n",
    "images, labels = data_iter.next()\n",
    "imshow(torchvision.utils.make_grid(images[:NUM_IMAGES_TO_SHOW]))\n",
    "print('Labels:', ' '.join(f'{classes[labels[i]]}' for i in range(NUM_IMAGES_TO_SHOW)))"
   ]
  },
  {
   "cell_type": "code",
   "execution_count": 14,
   "metadata": {},
   "outputs": [
    {
     "name": "stdout",
     "output_type": "stream",
     "text": [
      "Predicted: cat ship ship plane cat\n"
     ]
    }
   ],
   "source": [
    "# Predict classes for the random test images\n",
    "outputs = net(images.to(device))\n",
    "predicted = torch.argmax(outputs, 1)\n",
    "print('Predicted:', ' '.join(f'{classes[predicted[i]]}' for i in range(NUM_IMAGES_TO_SHOW)))"
   ]
  },
  {
   "cell_type": "code",
   "execution_count": 15,
   "metadata": {},
   "outputs": [
    {
     "name": "stdout",
     "output_type": "stream",
     "text": [
      "Accuracy of the model on the 10000 test images: 71.98%\n"
     ]
    }
   ],
   "source": [
    "# Check the accuracy on the test set\n",
    "num_total = len(test_set)\n",
    "num_correct = 0\n",
    "with torch.no_grad():\n",
    "    for data in test_loader:\n",
    "        images, labels = data[0].to(device), data[1].to(device)\n",
    "        outputs = net(images)\n",
    "        predicted = torch.argmax(outputs.data, 1)\n",
    "        num_correct += (predicted == labels).sum().item()\n",
    "print(f'Accuracy of the model on the {num_total} test images: {100 * num_correct / num_total}%')"
   ]
  },
  {
   "cell_type": "code",
   "execution_count": 16,
   "metadata": {},
   "outputs": [
    {
     "name": "stdout",
     "output_type": "stream",
     "text": [
      "Accuracy of plane: [763/1000] 76.3%\n",
      "Accuracy of car: [810/1000] 81.0%\n",
      "Accuracy of bird: [685/1000] 68.5%\n",
      "Accuracy of cat: [534/1000] 53.4%\n",
      "Accuracy of deer: [726/1000] 72.6%\n",
      "Accuracy of dog: [553/1000] 55.3%\n",
      "Accuracy of frog: [807/1000] 80.7%\n",
      "Accuracy of horse: [712/1000] 71.2%\n",
      "Accuracy of ship: [835/1000] 83.5%\n",
      "Accuracy of truck: [773/1000] 77.3%\n"
     ]
    }
   ],
   "source": [
    "# Check the accuracy per class\n",
    "class_correct = np.zeros(len(classes))\n",
    "class_total = np.zeros(len(classes))\n",
    "with torch.no_grad():\n",
    "    for data in test_loader:\n",
    "        images, labels = data[0].to(device), data[1].to(device)\n",
    "        outputs = net(images)\n",
    "        predicted = torch.argmax(outputs, 1)\n",
    "        predicted_correct = (predicted == labels).squeeze()\n",
    "        for i in range(len(labels)):\n",
    "            label = labels[i]\n",
    "            class_correct[label] += predicted_correct[i].item()\n",
    "            class_total[label] += 1\n",
    "for i in range(len(classes)):\n",
    "    print('Accuracy of {}: [{:.0f}/{:.0f}] {:.1f}%'.format(\n",
    "        classes[i], class_correct[i], class_total[i], 100 * class_correct[i] / class_total[i]))"
   ]
  },
  {
   "cell_type": "code",
   "execution_count": null,
   "metadata": {},
   "outputs": [],
   "source": []
  }
 ],
 "metadata": {
  "kernelspec": {
   "display_name": "Python 3",
   "language": "python",
   "name": "python3"
  },
  "language_info": {
   "codemirror_mode": {
    "name": "ipython",
    "version": 3
   },
   "file_extension": ".py",
   "mimetype": "text/x-python",
   "name": "python",
   "nbconvert_exporter": "python",
   "pygments_lexer": "ipython3",
   "version": "3.7.4"
  }
 },
 "nbformat": 4,
 "nbformat_minor": 4
}
