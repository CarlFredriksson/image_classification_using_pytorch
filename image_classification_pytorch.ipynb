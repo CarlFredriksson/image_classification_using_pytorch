{
 "cells": [
  {
   "cell_type": "markdown",
   "metadata": {},
   "source": [
    "# Introduction\n",
    "\n",
    "This notebook trains and evaluates a PyTorch CNN-model on the task of classifying images from the CIFAR10 dataset https://www.cs.toronto.edu/~kriz/cifar.html. I made it with the intent of learning PyTorch and it is based on the \"Training a Classifier\" tutorial from the PyTorch web site https://pytorch.org/tutorials/beginner/blitz/cifar10_tutorial.html. The source code can be found at https://github.com/CarlFredriksson/image_classification_using_pytorch.\n",
    "\n",
    "Let us start by importing some modules."
   ]
  },
  {
   "cell_type": "code",
   "execution_count": 5,
   "metadata": {},
   "outputs": [],
   "source": [
    "import time\n",
    "import torch\n",
    "import torch.nn as nn\n",
    "import torch.nn.functional as F\n",
    "import torch.optim as optim\n",
    "import torchvision\n",
    "import torchvision.transforms as transforms\n",
    "import matplotlib.pyplot as plt\n",
    "import numpy as np"
   ]
  },
  {
   "cell_type": "markdown",
   "metadata": {},
   "source": [
    "# Prepare Data\n",
    "\n",
    "The output of torchvision datasets are PILImage images with pixel values in the range [0,1]. We need to transform the images to PyTorch tensors and normalize their pixel values to be in the range [-1,1]. The transform `RandomHorizontalFlip` is a form of data augmentation that increases the size of training set by randomly flipping images horizontally with a given probability (0.5 by default) every time they are loaded. Increasing the size of the training set generally helps reduce overfitting and adding the `RandomHorizontalFlip` increased the final test accuracy. However, I tried a couple of the other data augmentation transforms and did not see an improvement in performance."
   ]
  },
  {
   "cell_type": "code",
   "execution_count": 8,
   "metadata": {},
   "outputs": [
    {
     "name": "stdout",
     "output_type": "stream",
     "text": [
      "Files already downloaded and verified\n",
      "Files already downloaded and verified\n",
      "Number of training examples: 50000\n",
      "Number of test examples: 10000\n"
     ]
    }
   ],
   "source": [
    "# Prepare training data\n",
    "train_transform = transforms.Compose([\n",
    "    transforms.RandomHorizontalFlip(),\n",
    "    transforms.ToTensor(),\n",
    "    transforms.Normalize((0.5, 0.5, 0.5), (0.5, 0.5, 0.5))\n",
    "])\n",
    "train_set = torchvision.datasets.CIFAR10(root='./data', train=True, download=True, transform=train_transform)\n",
    "train_loader = torch.utils.data.DataLoader(train_set, batch_size=128, shuffle=True, num_workers=2)\n",
    "\n",
    "# Prepare test data\n",
    "test_transform = transforms.Compose([\n",
    "    transforms.ToTensor(),\n",
    "    transforms.Normalize((0.5, 0.5, 0.5), (0.5, 0.5, 0.5))\n",
    "])\n",
    "test_set = torchvision.datasets.CIFAR10(root='./data', train=False, download=True, transform=test_transform)\n",
    "test_loader = torch.utils.data.DataLoader(test_set, batch_size=128, shuffle=False, num_workers=2)\n",
    "\n",
    "classes = ('plane', 'car', 'bird', 'cat', 'deer', 'dog', 'frog', 'horse', 'ship', 'truck')\n",
    "print('Number of training examples:', len(train_set))\n",
    "print('Number of test examples:', len(test_set))"
   ]
  },
  {
   "cell_type": "markdown",
   "metadata": {},
   "source": [
    "# Display Data"
   ]
  },
  {
   "cell_type": "markdown",
   "metadata": {},
   "source": [
    "Let us display some images from the training set to see what we are working with."
   ]
  },
  {
   "cell_type": "code",
   "execution_count": 9,
   "metadata": {},
   "outputs": [],
   "source": [
    "def imshow(img):\n",
    "    img = img / 2 + 0.5 # Un-normalize\n",
    "    np_img = img.numpy()\n",
    "    plt.imshow(np.transpose(np_img, (1, 2, 0)))\n",
    "    plt.show()"
   ]
  },
  {
   "cell_type": "code",
   "execution_count": 10,
   "metadata": {},
   "outputs": [
    {
     "data": {
      "image/png": "[encoded data removed]",
      "text/plain": [
       "<Figure size 432x288 with 1 Axes>"
      ]
     },
     "metadata": {
      "needs_background": "light"
     },
     "output_type": "display_data"
    },
    {
     "name": "stdout",
     "output_type": "stream",
     "text": [
      "Labels: car cat dog truck deer\n"
     ]
    }
   ],
   "source": [
    "# Show some random training images\n",
    "NUM_IMAGES_TO_SHOW = 5\n",
    "data_iter = iter(train_loader)\n",
    "images, labels = data_iter.next()\n",
    "imshow(torchvision.utils.make_grid(images[:NUM_IMAGES_TO_SHOW]))\n",
    "print('Labels:', ' '.join(f'{classes[labels[i]]}' for i in range(NUM_IMAGES_TO_SHOW)))"
   ]
  },
  {
   "cell_type": "markdown",
   "metadata": {},
   "source": [
    "# Create Model\n",
    "\n",
    "I tried several simple CNN-models and ended up with the one below. It does not achieve state of the art performance by any means but it is decent. The model uses the common pattern of convolutional layers (+ ReLU activation function) that increase the number of channels but does not change the dimensions (height and width) followed by max pooling layers for dimensionality reduction (downsampling). A famous architecture that use this pattern is VGG16, introduced in (Simonyan, Zisserman, 2014, https://arxiv.org/abs/1409.1556). However, VGG16 is much deeper and has multiple convolutional layers per pooling layer. At the time of writing this notebook there is no option to specify `padding='SAME'` as in TensorFlow, which means that we have to do the padding calculations ourselves. Let $H_{in}, W_{in}$ be the height and width of the input and $H_{out}, W_{out}$ be the height and width of the output. Then\n",
    "\n",
    "$$\n",
    "H_{out} = \\frac{H_{in} + 2 \\times \\text{padding}[0] - \\text{dilation}[0] \\times (\\text{kernel_size}[0] - 1) - 1}{\\text{stride}[0]} + 1 \\\\\n",
    "W_{out} = \\frac{W_{in} + 2 \\times \\text{padding}[1] - \\text{dilation}[1] \\times (\\text{kernel_size}[1] - 1) - 1}{\\text{stride}[1]} + 1\n",
    "$$\n",
    "\n",
    "When `padding[0] = padding[1]`, `kernel_size[0] = kernel_size[1]`, `dilation[0] = dilation[1] = 1` (default), and `stride[0] = stride[1] = 1` (default), the equations can be reduced to\n",
    "\n",
    "$$\n",
    "H_{out} = H_{in} + 2 \\times \\text{padding} - \\text{kernel_size} + 1 \\\\\n",
    "W_{out} = W_{in} + 2 \\times \\text{padding} - \\text{kernel_size} + 1\n",
    "$$\n",
    "\n",
    "A dropout layer is added between the first and second fully connected layers to reduce overfitting. Note that there is no need to add a soft-max layer after the last fully connected layer, since it is added automatically by `torch.nn.CrossEntropyLoss()` during training and it is not needed during inference because argmax does not get affected by applying soft-max.  If cuda is available, the network is moved to the gpu by `net.to(device)`. This can radically reduce training time, depending on what gpu you have available. I trained the model for 100 epochs using a batch size of 128 on both an \"Intel Core i7-4790S\" cpu and an \"NVIDIA GeForce RTX 2070 SUPER\" gpu. Training on the cpu takes about 2.5 hours and training on the gpu takes about 20 minutes."
   ]
  },
  {
   "cell_type": "code",
   "execution_count": 36,
   "metadata": {},
   "outputs": [],
   "source": [
    "class Net(nn.Module):\n",
    "    def __init__(self):\n",
    "        super(Net, self).__init__()\n",
    "        self.conv1 = nn.Conv2d(3, 16, 5, padding=2)\n",
    "        self.conv2 = nn.Conv2d(16, 32, 5, padding=2)\n",
    "        self.conv3 = nn.Conv2d(32, 64, 5, padding=2)\n",
    "        self.pool = nn.MaxPool2d(2, 2)\n",
    "        self.dropout = nn.Dropout(p=0.2)\n",
    "        self.fc1 = nn.Linear(64 * 4 * 4, 128)\n",
    "        self.fc2 = nn.Linear(128, 64)\n",
    "        self.fc3 = nn.Linear(64, 10)\n",
    "\n",
    "    def forward(self, x):\n",
    "        # x size: N x 3 x 32 x 32\n",
    "        x = F.relu(self.conv1(x))  # N x 16 x 32 x 32\n",
    "        x = self.pool(x) # N x 16 x 16 x 16\n",
    "        x = F.relu(self.conv2(x)) # N x 32 x 16 x 16\n",
    "        x = self.pool(x) # N x 32 x 8 x 8\n",
    "        x = F.relu(self.conv3(x)) # N x 64 x 8 x 8\n",
    "        x = self.pool(x) # N x 64 x 4 x 4\n",
    "        x = x.view(-1, 64 * 4 * 4) # N x 1024\n",
    "        x = F.relu(self.fc1(x)) # N x 128\n",
    "        x = self.dropout(x)\n",
    "        x = F.relu(self.fc2(x)) # N x 64\n",
    "        x = self.fc3(x) # N x 10\n",
    "        return x"
   ]
  },
  {
   "cell_type": "code",
   "execution_count": 37,
   "metadata": {},
   "outputs": [
    {
     "name": "stdout",
     "output_type": "stream",
     "text": [
      "Device: cuda:0\n"
     ]
    }
   ],
   "source": [
    "# Create model\n",
    "net = Net()\n",
    "device = torch.device('cuda:0' if torch.cuda.is_available() else 'cpu')\n",
    "net.to(device)\n",
    "print('Device:', device)"
   ]
  },
  {
   "cell_type": "code",
   "execution_count": 38,
   "metadata": {},
   "outputs": [],
   "source": [
    "# Create optimizer\n",
    "criterion = nn.CrossEntropyLoss()\n",
    "optimizer = optim.SGD(net.parameters(), lr=0.001, momentum=0.9)"
   ]
  },
  {
   "cell_type": "markdown",
   "metadata": {},
   "source": [
    "# Train model"
   ]
  },
  {
   "cell_type": "markdown",
   "metadata": {},
   "source": [
    "Now it is time to train the model. One thing to note is that we need to move the input and labels to the same device the neural network is running on by using `to(device)`. Another thing to remember is to zero the gradients each iteration by calling `optimizer.zero_grad()`. This is necessary because `loss.backward()` accumulates gradients (sums them)."
   ]
  },
  {
   "cell_type": "code",
   "execution_count": 39,
   "metadata": {},
   "outputs": [],
   "source": [
    "def compute_test_accuracy():\n",
    "    num_total = len(test_set)\n",
    "    num_correct = 0\n",
    "    with torch.no_grad():\n",
    "        for data in test_loader:\n",
    "            images, labels = data[0].to(device), data[1].to(device)\n",
    "            outputs = net(images)\n",
    "            predictions = torch.argmax(outputs.data, 1)\n",
    "            num_correct += (predictions == labels).sum().item()\n",
    "    return num_correct / num_total"
   ]
  },
  {
   "cell_type": "code",
   "execution_count": 40,
   "metadata": {},
   "outputs": [
    {
     "name": "stdout",
     "output_type": "stream",
     "text": [
      "Number of iterations per epoch: 391\n"
     ]
    }
   ],
   "source": [
    "print('Number of iterations per epoch:', len(train_loader))"
   ]
  },
  {
   "cell_type": "code",
   "execution_count": 41,
   "metadata": {},
   "outputs": [
    {
     "name": "stdout",
     "output_type": "stream",
     "text": [
      "Starting training\n",
      "Epoch [0/99] loss: 2.30430 accuracy: 10.12% test accuracy: 10.10%\n",
      "Epoch [1/99] loss: 2.29794 accuracy: 13.22% test accuracy: 16.57%\n",
      "Epoch [2/99] loss: 2.27545 accuracy: 17.33% test accuracy: 19.37%\n",
      "Epoch [3/99] loss: 2.11230 accuracy: 21.62% test accuracy: 26.13%\n",
      "Epoch [4/99] loss: 1.97091 accuracy: 26.78% test accuracy: 31.26%\n",
      "Epoch [5/99] loss: 1.84752 accuracy: 31.80% test accuracy: 35.64%\n",
      "Epoch [6/99] loss: 1.73976 accuracy: 35.57% test accuracy: 37.70%\n",
      "Epoch [7/99] loss: 1.66805 accuracy: 38.19% test accuracy: 40.39%\n",
      "Epoch [8/99] loss: 1.61438 accuracy: 40.21% test accuracy: 43.29%\n",
      "Epoch [9/99] loss: 1.56588 accuracy: 42.24% test accuracy: 44.45%\n",
      "Epoch [10/99] loss: 1.51483 accuracy: 44.48% test accuracy: 46.25%\n",
      "Epoch [11/99] loss: 1.47795 accuracy: 45.98% test accuracy: 47.05%\n",
      "Epoch [12/99] loss: 1.43904 accuracy: 47.42% test accuracy: 49.05%\n",
      "Epoch [13/99] loss: 1.40022 accuracy: 49.15% test accuracy: 51.44%\n",
      "Epoch [14/99] loss: 1.36441 accuracy: 50.41% test accuracy: 52.47%\n",
      "Epoch [15/99] loss: 1.33119 accuracy: 51.75% test accuracy: 53.77%\n",
      "Epoch [16/99] loss: 1.29663 accuracy: 52.92% test accuracy: 55.02%\n",
      "Epoch [17/99] loss: 1.26588 accuracy: 54.31% test accuracy: 56.14%\n",
      "Epoch [18/99] loss: 1.23510 accuracy: 55.41% test accuracy: 56.78%\n",
      "Epoch [19/99] loss: 1.20778 accuracy: 56.48% test accuracy: 56.05%\n",
      "Epoch [20/99] loss: 1.17762 accuracy: 57.75% test accuracy: 59.06%\n",
      "Epoch [21/99] loss: 1.15223 accuracy: 58.52% test accuracy: 60.47%\n",
      "Epoch [22/99] loss: 1.12348 accuracy: 59.71% test accuracy: 60.39%\n",
      "Epoch [23/99] loss: 1.09939 accuracy: 60.67% test accuracy: 62.08%\n",
      "Epoch [24/99] loss: 1.07624 accuracy: 61.51% test accuracy: 62.75%\n",
      "Epoch [25/99] loss: 1.05219 accuracy: 62.61% test accuracy: 63.92%\n",
      "Epoch [26/99] loss: 1.03124 accuracy: 63.22% test accuracy: 64.55%\n",
      "Epoch [27/99] loss: 1.00860 accuracy: 64.12% test accuracy: 63.67%\n",
      "Epoch [28/99] loss: 0.99193 accuracy: 64.81% test accuracy: 65.61%\n",
      "Epoch [29/99] loss: 0.97042 accuracy: 65.38% test accuracy: 64.61%\n",
      "Epoch [30/99] loss: 0.95229 accuracy: 65.95% test accuracy: 66.88%\n",
      "Epoch [31/99] loss: 0.93602 accuracy: 66.72% test accuracy: 66.41%\n",
      "Epoch [32/99] loss: 0.92103 accuracy: 67.40% test accuracy: 67.47%\n",
      "Epoch [33/99] loss: 0.90594 accuracy: 67.76% test accuracy: 68.24%\n",
      "Epoch [34/99] loss: 0.88815 accuracy: 68.53% test accuracy: 68.55%\n",
      "Epoch [35/99] loss: 0.87620 accuracy: 69.00% test accuracy: 68.00%\n",
      "Epoch [36/99] loss: 0.86055 accuracy: 69.56% test accuracy: 68.67%\n",
      "Epoch [37/99] loss: 0.84617 accuracy: 70.08% test accuracy: 69.18%\n",
      "Epoch [38/99] loss: 0.82969 accuracy: 70.77% test accuracy: 69.99%\n",
      "Epoch [39/99] loss: 0.81974 accuracy: 71.15% test accuracy: 69.63%\n",
      "Epoch [40/99] loss: 0.81121 accuracy: 71.24% test accuracy: 70.06%\n",
      "Epoch [41/99] loss: 0.79935 accuracy: 71.70% test accuracy: 70.80%\n",
      "Epoch [42/99] loss: 0.78336 accuracy: 72.28% test accuracy: 71.78%\n",
      "Epoch [43/99] loss: 0.77000 accuracy: 72.87% test accuracy: 70.56%\n",
      "Epoch [44/99] loss: 0.75890 accuracy: 73.36% test accuracy: 71.80%\n",
      "Epoch [45/99] loss: 0.74887 accuracy: 73.53% test accuracy: 72.23%\n",
      "Epoch [46/99] loss: 0.74319 accuracy: 73.91% test accuracy: 72.45%\n",
      "Epoch [47/99] loss: 0.72988 accuracy: 74.33% test accuracy: 72.57%\n",
      "Epoch [48/99] loss: 0.71950 accuracy: 74.51% test accuracy: 72.62%\n",
      "Epoch [49/99] loss: 0.70928 accuracy: 74.81% test accuracy: 73.06%\n",
      "Epoch [50/99] loss: 0.69906 accuracy: 75.47% test accuracy: 73.71%\n",
      "Epoch [51/99] loss: 0.69411 accuracy: 75.68% test accuracy: 74.11%\n",
      "Epoch [52/99] loss: 0.68380 accuracy: 76.05% test accuracy: 73.84%\n",
      "Epoch [53/99] loss: 0.67348 accuracy: 76.31% test accuracy: 73.81%\n",
      "Epoch [54/99] loss: 0.66093 accuracy: 76.85% test accuracy: 74.58%\n",
      "Epoch [55/99] loss: 0.66023 accuracy: 76.81% test accuracy: 74.32%\n",
      "Epoch [56/99] loss: 0.64836 accuracy: 77.06% test accuracy: 74.57%\n",
      "Epoch [57/99] loss: 0.63803 accuracy: 77.63% test accuracy: 75.02%\n",
      "Epoch [58/99] loss: 0.63673 accuracy: 77.64% test accuracy: 74.69%\n",
      "Epoch [59/99] loss: 0.62224 accuracy: 78.22% test accuracy: 74.67%\n",
      "Epoch [60/99] loss: 0.61626 accuracy: 78.29% test accuracy: 74.73%\n",
      "Epoch [61/99] loss: 0.61031 accuracy: 78.68% test accuracy: 74.54%\n",
      "Epoch [62/99] loss: 0.60648 accuracy: 78.73% test accuracy: 75.34%\n",
      "Epoch [63/99] loss: 0.59909 accuracy: 78.98% test accuracy: 75.36%\n",
      "Epoch [64/99] loss: 0.59078 accuracy: 79.31% test accuracy: 75.94%\n",
      "Epoch [65/99] loss: 0.57954 accuracy: 79.71% test accuracy: 75.02%\n",
      "Epoch [66/99] loss: 0.57334 accuracy: 79.96% test accuracy: 76.12%\n",
      "Epoch [67/99] loss: 0.57036 accuracy: 80.06% test accuracy: 76.03%\n",
      "Epoch [68/99] loss: 0.56312 accuracy: 80.20% test accuracy: 76.42%\n",
      "Epoch [69/99] loss: 0.55298 accuracy: 80.56% test accuracy: 76.36%\n",
      "Epoch [70/99] loss: 0.55083 accuracy: 80.67% test accuracy: 76.55%\n",
      "Epoch [71/99] loss: 0.54023 accuracy: 81.18% test accuracy: 75.54%\n",
      "Epoch [72/99] loss: 0.53319 accuracy: 81.13% test accuracy: 75.72%\n",
      "Epoch [73/99] loss: 0.52956 accuracy: 81.46% test accuracy: 76.30%\n",
      "Epoch [74/99] loss: 0.52344 accuracy: 81.64% test accuracy: 76.37%\n",
      "Epoch [75/99] loss: 0.51407 accuracy: 81.90% test accuracy: 76.04%\n",
      "Epoch [76/99] loss: 0.51370 accuracy: 82.02% test accuracy: 76.50%\n",
      "Epoch [77/99] loss: 0.50465 accuracy: 82.10% test accuracy: 76.97%\n",
      "Epoch [78/99] loss: 0.49947 accuracy: 82.42% test accuracy: 77.06%\n",
      "Epoch [79/99] loss: 0.49529 accuracy: 82.56% test accuracy: 76.31%\n",
      "Epoch [80/99] loss: 0.48774 accuracy: 82.76% test accuracy: 77.01%\n",
      "Epoch [81/99] loss: 0.48161 accuracy: 83.02% test accuracy: 76.65%\n",
      "Epoch [82/99] loss: 0.47302 accuracy: 83.29% test accuracy: 77.69%\n",
      "Epoch [83/99] loss: 0.47186 accuracy: 83.17% test accuracy: 76.69%\n",
      "Epoch [84/99] loss: 0.46560 accuracy: 83.57% test accuracy: 76.63%\n",
      "Epoch [85/99] loss: 0.46313 accuracy: 83.68% test accuracy: 77.24%\n",
      "Epoch [86/99] loss: 0.45530 accuracy: 83.82% test accuracy: 77.22%\n",
      "Epoch [87/99] loss: 0.45082 accuracy: 84.07% test accuracy: 77.20%\n",
      "Epoch [88/99] loss: 0.44217 accuracy: 84.40% test accuracy: 77.42%\n",
      "Epoch [89/99] loss: 0.43704 accuracy: 84.33% test accuracy: 76.67%\n",
      "Epoch [90/99] loss: 0.43138 accuracy: 84.76% test accuracy: 77.66%\n",
      "Epoch [91/99] loss: 0.43230 accuracy: 84.64% test accuracy: 77.37%\n",
      "Epoch [92/99] loss: 0.42329 accuracy: 85.02% test accuracy: 77.89%\n",
      "Epoch [93/99] loss: 0.41373 accuracy: 85.36% test accuracy: 78.21%\n",
      "Epoch [94/99] loss: 0.40631 accuracy: 85.63% test accuracy: 77.46%\n",
      "Epoch [95/99] loss: 0.40739 accuracy: 85.55% test accuracy: 76.99%\n",
      "Epoch [96/99] loss: 0.40414 accuracy: 85.56% test accuracy: 77.78%\n",
      "Epoch [97/99] loss: 0.39867 accuracy: 85.80% test accuracy: 77.66%\n",
      "Epoch [98/99] loss: 0.39524 accuracy: 85.97% test accuracy: 77.50%\n",
      "Epoch [99/99] loss: 0.38791 accuracy: 86.26% test accuracy: 77.70%\n",
      "Finished training - elapsed_time: 1246 sec\n"
     ]
    }
   ],
   "source": [
    "# Train model\n",
    "NUM_EPOCHS = 100\n",
    "loss_per_epoch = np.zeros(NUM_EPOCHS)\n",
    "accuracy_per_epoch = np.zeros(NUM_EPOCHS)\n",
    "test_accuracy_per_epoch = np.zeros(NUM_EPOCHS)\n",
    "print('Starting training')\n",
    "start_time = time.perf_counter()\n",
    "for epoch in range(NUM_EPOCHS):\n",
    "    for i, data in enumerate(train_loader):\n",
    "        inputs, labels = data[0].to(device), data[1].to(device)\n",
    "\n",
    "        # Zero the parameter gradients\n",
    "        optimizer.zero_grad()\n",
    "\n",
    "        # Forward + backward + optimize\n",
    "        outputs = net(inputs)\n",
    "        predictions = torch.argmax(outputs.data, 1)\n",
    "        loss = criterion(outputs, labels)\n",
    "        loss.backward()\n",
    "        optimizer.step()\n",
    "\n",
    "        loss_per_epoch[epoch] += loss.item() / len(train_loader)\n",
    "        accuracy_per_epoch[epoch] += (predictions == labels).sum().item() / len(train_set)\n",
    "    # Compute test accuracy\n",
    "    net.train(False)\n",
    "    test_accuracy_per_epoch[epoch] = compute_test_accuracy()\n",
    "    net.train(True)\n",
    "\n",
    "    # Print statistics\n",
    "    print('Epoch [{}/{}] loss: {:.5f} accuracy: {:.2f}% test accuracy: {:.2f}%'.format(\n",
    "        epoch, NUM_EPOCHS - 1, loss_per_epoch[epoch],\n",
    "        100 * accuracy_per_epoch[epoch],\n",
    "        100 * test_accuracy_per_epoch[epoch]))\n",
    "elapsed_time = time.perf_counter() - start_time\n",
    "print(f'Finished training - elapsed_time: {elapsed_time:.0f} sec')"
   ]
  },
  {
   "cell_type": "code",
   "execution_count": 42,
   "metadata": {},
   "outputs": [
    {
     "data": {
      "image/png": "[encoded data removed]",
      "text/plain": [
       "<Figure size 720x288 with 2 Axes>"
      ]
     },
     "metadata": {
      "needs_background": "light"
     },
     "output_type": "display_data"
    }
   ],
   "source": [
    "fig, ax = plt.subplots(1, 2, figsize=(10, 4))\n",
    "ax[0].plot(np.arange(NUM_EPOCHS), loss_per_epoch)\n",
    "ax[0].set_xlabel('Epoch')\n",
    "ax[0].set_ylabel('Cross entropy loss')\n",
    "ax[1].plot(np.arange(NUM_EPOCHS), 100 * accuracy_per_epoch, label='Training accuracy')\n",
    "ax[1].plot(np.arange(NUM_EPOCHS), 100 * test_accuracy_per_epoch, label='Test accuracy')\n",
    "ax[1].set_xlabel('Epoch')\n",
    "ax[1].set_ylabel('Accuracy %')\n",
    "ax[1].legend()\n",
    "plt.show()"
   ]
  },
  {
   "cell_type": "markdown",
   "metadata": {},
   "source": [
    "# Save and Load Model"
   ]
  },
  {
   "cell_type": "markdown",
   "metadata": {},
   "source": [
    "You obviously do not need to load the saved model if you run the whole notebook, but I included the cell for future reference and to be able to test a saved model without having to train a new one."
   ]
  },
  {
   "cell_type": "code",
   "execution_count": 43,
   "metadata": {},
   "outputs": [],
   "source": [
    "# Save trained model\n",
    "save_path = './nn_cifar10.pth'\n",
    "torch.save(net.state_dict(), save_path)"
   ]
  },
  {
   "cell_type": "code",
   "execution_count": 44,
   "metadata": {},
   "outputs": [
    {
     "name": "stdout",
     "output_type": "stream",
     "text": [
      "True\n"
     ]
    }
   ],
   "source": [
    "# Load saved model\n",
    "net = Net()\n",
    "net.load_state_dict(torch.load(save_path))\n",
    "net.to(device)\n",
    "print(net.training)"
   ]
  },
  {
   "cell_type": "markdown",
   "metadata": {},
   "source": [
    "# Test Model\n",
    "\n",
    "Let us test the model on a few images, compute the test accuracy, and compute the test accuracy per class. We need to make sure that the model is in evaluation mode to disable the dropout layer."
   ]
  },
  {
   "cell_type": "code",
   "execution_count": 45,
   "metadata": {},
   "outputs": [
    {
     "name": "stdout",
     "output_type": "stream",
     "text": [
      "False\n"
     ]
    }
   ],
   "source": [
    "# Make sure that the model is in eval mode\n",
    "net.eval()\n",
    "print(net.training)"
   ]
  },
  {
   "cell_type": "code",
   "execution_count": 46,
   "metadata": {},
   "outputs": [
    {
     "data": {
      "image/png": "[encoded data removed]",
      "text/plain": [
       "<Figure size 432x288 with 1 Axes>"
      ]
     },
     "metadata": {
      "needs_background": "light"
     },
     "output_type": "display_data"
    },
    {
     "name": "stdout",
     "output_type": "stream",
     "text": [
      "Labels: cat ship ship plane frog\n"
     ]
    }
   ],
   "source": [
    "# Show some test images\n",
    "data_iter = iter(test_loader)\n",
    "images, labels = data_iter.next()\n",
    "imshow(torchvision.utils.make_grid(images[:NUM_IMAGES_TO_SHOW]))\n",
    "print('Labels:', ' '.join(f'{classes[labels[i]]}' for i in range(NUM_IMAGES_TO_SHOW)))"
   ]
  },
  {
   "cell_type": "code",
   "execution_count": 47,
   "metadata": {},
   "outputs": [
    {
     "name": "stdout",
     "output_type": "stream",
     "text": [
      "predictions: cat ship ship plane frog\n"
     ]
    }
   ],
   "source": [
    "# Predict classes for the random test images\n",
    "outputs = net(images.to(device))\n",
    "predictions = torch.argmax(outputs, 1)\n",
    "print('predictions:', ' '.join(f'{classes[predictions[i]]}' for i in range(NUM_IMAGES_TO_SHOW)))"
   ]
  },
  {
   "cell_type": "code",
   "execution_count": 48,
   "metadata": {},
   "outputs": [
    {
     "name": "stdout",
     "output_type": "stream",
     "text": [
      "Accuracy of the model on the 10000 test images: 77.7%\n"
     ]
    }
   ],
   "source": [
    "print('Accuracy of the model on the {} test images: {}%'.format(\n",
    "    len(test_set), 100 * compute_test_accuracy()))"
   ]
  },
  {
   "cell_type": "code",
   "execution_count": 49,
   "metadata": {},
   "outputs": [
    {
     "name": "stdout",
     "output_type": "stream",
     "text": [
      "Accuracy of plane: [816/1000] 81.6%\n",
      "Accuracy of car: [877/1000] 87.7%\n",
      "Accuracy of bird: [699/1000] 69.9%\n",
      "Accuracy of cat: [668/1000] 66.8%\n",
      "Accuracy of deer: [748/1000] 74.8%\n",
      "Accuracy of dog: [581/1000] 58.1%\n",
      "Accuracy of frog: [822/1000] 82.2%\n",
      "Accuracy of horse: [827/1000] 82.7%\n",
      "Accuracy of ship: [872/1000] 87.2%\n",
      "Accuracy of truck: [860/1000] 86.0%\n"
     ]
    }
   ],
   "source": [
    "# Check the accuracy per class\n",
    "class_correct = np.zeros(len(classes))\n",
    "class_total = np.zeros(len(classes))\n",
    "with torch.no_grad():\n",
    "    for data in test_loader:\n",
    "        images, labels = data[0].to(device), data[1].to(device)\n",
    "        outputs = net(images)\n",
    "        predictions = torch.argmax(outputs, 1)\n",
    "        predictions_correct = (predictions == labels).squeeze()\n",
    "        for i in range(len(labels)):\n",
    "            label = labels[i]\n",
    "            class_correct[label] += predictions_correct[i].item()\n",
    "            class_total[label] += 1\n",
    "for i in range(len(classes)):\n",
    "    print('Accuracy of {}: [{:.0f}/{:.0f}] {:.1f}%'.format(\n",
    "        classes[i], class_correct[i], class_total[i], 100 * class_correct[i] / class_total[i]))"
   ]
  }
 ],
 "metadata": {
  "kernelspec": {
   "display_name": "Python 3",
   "language": "python",
   "name": "python3"
  },
  "language_info": {
   "codemirror_mode": {
    "name": "ipython",
    "version": 3
   },
   "file_extension": ".py",
   "mimetype": "text/x-python",
   "name": "python",
   "nbconvert_exporter": "python",
   "pygments_lexer": "ipython3",
   "version": "3.7.4"
  }
 },
 "nbformat": 4,
 "nbformat_minor": 4
}
